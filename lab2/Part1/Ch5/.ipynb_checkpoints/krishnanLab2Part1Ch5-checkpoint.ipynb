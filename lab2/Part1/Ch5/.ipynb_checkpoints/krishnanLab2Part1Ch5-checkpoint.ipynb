{
 "cells": [
  {
   "cell_type": "markdown",
   "metadata": {},
   "source": [
    "# Visualizations and Simple Metrics"
   ]
  },
  {
   "cell_type": "code",
   "execution_count": 3,
   "metadata": {
    "collapsed": false
   },
   "outputs": [],
   "source": [
    "import pandas as pd\n",
    "from matplotlib import pyplot as plt\n",
    "import sklearn.datasets\n",
    "def get_iris_df():\n",
    "    ds = sklearn.datasets.load_iris()\n",
    "    df = pd.DataFrame(ds['data'],\n",
    "        columns = ds['feature_names'])\n",
    "    code_species_map = dict(zip(\n",
    "        range(3), ds['target_names']))\n",
    "    df['species'] = [code_species_map[c]\n",
    "        for c in ds['target']]\n",
    "    return df\n",
    "df = get_iris_df()"
   ]
  },
  {
   "cell_type": "code",
   "execution_count": 4,
   "metadata": {
    "collapsed": true
   },
   "outputs": [],
   "source": [
    "sums_by_species = df.groupby('species').sum()\n",
    "var = 'sepal width (cm)'\n",
    "sums_by_species[var].plot(kind='pie', fontsize=20)\n",
    "plt.ylabel(var, horizontalalignment='left')\n",
    "plt.title('Breakdown for ' + var, fontsize=25)\n",
    "plt.savefig('iris_pie_for_one_variable.jpg')\n",
    "plt.close()"
   ]
  },
  {
   "cell_type": "code",
   "execution_count": 7,
   "metadata": {
    "collapsed": false
   },
   "outputs": [],
   "source": [
    "sums_by_species = df.groupby('species').sum()\n",
    "sums_by_species.plot(kind='pie', subplots=True,\n",
    "layout=(2,2), legend=False)\n",
    "plt.title('Total Measurements, by Species')\n",
    "plt.savefig('iris_pie_for_each_variable.jpg')\n",
    "plt.close()"
   ]
  },
  {
   "cell_type": "code",
   "execution_count": null,
   "metadata": {
    "collapsed": true
   },
   "outputs": [],
   "source": []
  }
 ],
 "metadata": {
  "anaconda-cloud": {},
  "kernelspec": {
   "display_name": "Python [conda root]",
   "language": "python",
   "name": "conda-root-py"
  },
  "language_info": {
   "codemirror_mode": {
    "name": "ipython",
    "version": 3
   },
   "file_extension": ".py",
   "mimetype": "text/x-python",
   "name": "python",
   "nbconvert_exporter": "python",
   "pygments_lexer": "ipython3",
   "version": "3.5.2"
  }
 },
 "nbformat": 4,
 "nbformat_minor": 1
}
