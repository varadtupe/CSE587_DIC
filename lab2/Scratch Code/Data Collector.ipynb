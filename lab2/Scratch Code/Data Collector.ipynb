{
 "cells": [
  {
   "cell_type": "code",
   "execution_count": null,
   "metadata": {},
   "outputs": [],
   "source": [
    "import requests\n",
    "from bs4 import BeautifulSoup\n",
    "session = requests.Session()\n",
    "import datetime\n",
    "import time"
   ]
  },
  {
   "cell_type": "code",
   "execution_count": 2,
   "metadata": {},
   "outputs": [],
   "source": [
    "def NYDataCollect(searchword):\n",
    "    url = \"http://api.nytimes.com/svc/search/v2/articlesearch.json?q=\"+searchword+\"&api-key=212fe9ffc7be4f99b8c82341ceed2e03\"\n",
    "    r = requests.get(url)\n",
    "    data = r.json()\n",
    "    # print(data)\n",
    "    return data[\"response\"][\"docs\"]"
   ]
  },
  {
   "cell_type": "code",
   "execution_count": 3,
   "metadata": {},
   "outputs": [],
   "source": [
    "def urlCollector(inpData):\n",
    "    urlList = []\n",
    "    for i in inpData:\n",
    "        urlList.append(i[\"web_url\"])\n",
    "    return urlList"
   ]
  },
  {
   "cell_type": "code",
   "execution_count": 10,
   "metadata": {},
   "outputs": [],
   "source": [
    "def articleText(url):\n",
    "    try:\n",
    "        req = session.get(url)\n",
    "        soup = BeautifulSoup(req.text)\n",
    "        paragraphs = soup.find_all('p', class_='story-body-text story-content')\n",
    "        article = \"\"\n",
    "        for i in paragraphs:\n",
    "            article = article + i.get_text()\n",
    "            writeToFile(article,\"nyData\")\n",
    "    except:\n",
    "        print(\"url problem for \" + url)"
   ]
  },
  {
   "cell_type": "code",
   "execution_count": 8,
   "metadata": {},
   "outputs": [],
   "source": [
    "def writeToFile(inpStr,folder):\n",
    "    filename = \"./\"+ folder+ \"/article_\" + datetime.datetime.fromtimestamp(time.time()).strftime('%Y_%m_%d_%H_%M_%S') + \".txt\"\n",
    "    dFile= open(filename,\"w\")\n",
    "    dFile.write(inpStr)\n",
    "    dFile.close()"
   ]
  },
  {
   "cell_type": "code",
   "execution_count": 12,
   "metadata": {},
   "outputs": [],
   "source": [
    "def getNYDataByTopic(topic):\n",
    "    gunData = NYDataCollect(topic)\n",
    "    urls = urlCollector(gunData)\n",
    "    for i in urls:\n",
    "        print(i)\n",
    "        articleText(i)"
   ]
  },
  {
   "cell_type": "code",
   "execution_count": 13,
   "metadata": {},
   "outputs": [
    {
     "name": "stdout",
     "output_type": "stream",
     "text": [
      "https://www.nytimes.com/2018/02/27/movies/did-you-wonder-who-fired-the-gun-review.html\n"
     ]
    },
    {
     "name": "stderr",
     "output_type": "stream",
     "text": [
      "/anaconda/lib/python3.6/site-packages/bs4/__init__.py:181: UserWarning: No parser was explicitly specified, so I'm using the best available HTML parser for this system (\"html5lib\"). This usually isn't a problem, but if you run this code on another system, or in a different virtual environment, it may use a different parser and behave differently.\n",
      "\n",
      "The code that caused this warning is on line 193 of the file /anaconda/lib/python3.6/runpy.py. To get rid of this warning, change code that looks like this:\n",
      "\n",
      " BeautifulSoup(YOUR_MARKUP})\n",
      "\n",
      "to this:\n",
      "\n",
      " BeautifulSoup(YOUR_MARKUP, \"html5lib\")\n",
      "\n",
      "  markup_type=markup_type))\n"
     ]
    },
    {
     "name": "stdout",
     "output_type": "stream",
     "text": [
      "https://www.nytimes.com/2018/02/27/opinion/guns-age-limit-mental-hospitals.html\n",
      "https://www.nytimes.com/2018/03/24/opinion/sunday/stop-shielding-gun-makers.html\n",
      "https://www.nytimes.com/2018/03/11/opinion/delta-and-antigun-rally.html\n",
      "https://www.nytimes.com/2018/03/25/us/gun-march-organizers.html\n",
      "https://www.nytimes.com/2018/03/24/opinion/sunday/gun-control.html\n",
      "https://www.nytimes.com/2017/10/03/opinion/automatic-weapons-laws.html\n",
      "https://topics.nytimes.com/topic/subject/guns-and-gun-control\n",
      "url problem for https://topics.nytimes.com/topic/subject/guns-and-gun-control\n",
      "https://topics.nytimes.com/top/reference/timestopics/subjects/g/gun_control/index.html\n",
      "url problem for https://topics.nytimes.com/top/reference/timestopics/subjects/g/gun_control/index.html\n",
      "https://www.nytimes.com/2018/02/28/us/politics/fact-checking-trump-guns-cabinet-room.html\n"
     ]
    }
   ],
   "source": [
    "getNYDataByTopic(\"gun\")\n",
    "getNYDataByTopic(\"parkland\")"
   ]
  },
  {
   "cell_type": "code",
   "execution_count": 14,
   "metadata": {},
   "outputs": [
    {
     "name": "stdout",
     "output_type": "stream",
     "text": [
      "https://www.nytimes.com/2018/03/08/us/florida-school-shooting-911-calls.html\n"
     ]
    },
    {
     "name": "stderr",
     "output_type": "stream",
     "text": [
      "/anaconda/lib/python3.6/site-packages/bs4/__init__.py:181: UserWarning: No parser was explicitly specified, so I'm using the best available HTML parser for this system (\"html5lib\"). This usually isn't a problem, but if you run this code on another system, or in a different virtual environment, it may use a different parser and behave differently.\n",
      "\n",
      "The code that caused this warning is on line 193 of the file /anaconda/lib/python3.6/runpy.py. To get rid of this warning, change code that looks like this:\n",
      "\n",
      " BeautifulSoup(YOUR_MARKUP})\n",
      "\n",
      "to this:\n",
      "\n",
      " BeautifulSoup(YOUR_MARKUP, \"html5lib\")\n",
      "\n",
      "  markup_type=markup_type))\n"
     ]
    },
    {
     "name": "stdout",
     "output_type": "stream",
     "text": [
      "https://www.nytimes.com/2018/03/07/us/parkland-students-social-media.html\n",
      "https://www.nytimes.com/2018/03/13/arts/design/art-show-inspired-by-parkland-victims-extended.html\n",
      "https://www.nytimes.com/2018/03/24/us/parkland-students-gun-violence.html\n",
      "https://www.nytimes.com/2018/02/25/us/florida-students-return-high-school.html\n",
      "https://www.nytimes.com/video/us/100000005800749/video-of-parkland-school-as-shooting-began.html\n",
      "https://www.nytimes.com/2018/02/14/us/florida-school-shooting-scene.html\n",
      "https://www.nytimes.com/2018/03/29/us/parkland-students-college-admission.html\n",
      "https://www.nytimes.com/2018/03/15/us/surveillance-video-parkland-shooting.html\n",
      "https://www.nytimes.com/video/us/politics/100000005817252/sam-fuentes-march-for-our-lives-guns.html\n"
     ]
    }
   ],
   "source": []
  },
  {
   "cell_type": "code",
   "execution_count": null,
   "metadata": {},
   "outputs": [],
   "source": []
  }
 ],
 "metadata": {
  "kernelspec": {
   "display_name": "Python 3",
   "language": "python",
   "name": "python3"
  },
  "language_info": {
   "codemirror_mode": {
    "name": "ipython",
    "version": 3
   },
   "file_extension": ".py",
   "mimetype": "text/x-python",
   "name": "python",
   "nbconvert_exporter": "python",
   "pygments_lexer": "ipython3",
   "version": "3.6.4"
  }
 },
 "nbformat": 4,
 "nbformat_minor": 2
}
