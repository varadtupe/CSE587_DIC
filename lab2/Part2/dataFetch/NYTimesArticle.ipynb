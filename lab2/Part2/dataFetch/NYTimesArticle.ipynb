{
 "cells": [
  {
   "cell_type": "code",
   "execution_count": 1,
   "metadata": {
    "collapsed": true
   },
   "outputs": [],
   "source": [
    "import requests\n",
    "from bs4 import BeautifulSoup\n",
    "session = requests.Session()\n",
    "import datetime\n",
    "import time\n",
    "\n",
    "def NYDataCollect(searchword):\n",
    "    url = \"http://api.nytimes.com/svc/search/v2/articlesearch.json?q=\"+searchword+\"&api-key=212fe9ffc7be4f99b8c82341ceed2e03\"\n",
    "    r = requests.get(url)\n",
    "    data = r.json()\n",
    "    # print(data)\n",
    "    return data[\"response\"][\"docs\"]\n",
    "\n",
    "def urlCollector(inpData):\n",
    "    urlList = []\n",
    "    for i in inpData:\n",
    "        urlList.append(i[\"web_url\"])\n",
    "    return urlList\n",
    "\n",
    "def articleText(url):\n",
    "    try:\n",
    "        req = session.get(url)\n",
    "        soup = BeautifulSoup(req.text,\"lxml\")\n",
    "        paragraphs = soup.find_all('p', class_='story-body-text story-content')\n",
    "        article = \"\"\n",
    "        for i in paragraphs:\n",
    "            article = article + i.get_text()\n",
    "            writeToFile(article,\"nyData\")\n",
    "    except:\n",
    "        print(\"url problem for \" + url)\n",
    "\n",
    "def writeToFile(inpStr,folder):\n",
    "    filename = \"./\"+ folder+ \"/article_\" + datetime.datetime.fromtimestamp(time.time()).strftime('%Y_%m_%d_%H_%M_%S') + \".txt\"\n",
    "    dFile= open(filename,\"w\")\n",
    "    dFile.write(inpStr)\n",
    "    dFile.close()\n",
    "\n",
    "def getNYDataByTopic(topic):\n",
    "    gunData = NYDataCollect(topic)\n",
    "    urls = urlCollector(gunData)\n",
    "    for i in urls:\n",
    "        print(i)\n",
    "        articleText(i)\n",
    "\n",
    "getNYDataByTopic(\"gun violence\")\n",
    "getNYDataByTopic(\"parkland\")\n",
    "getNYDataByTopic(\"gun\")\n",
    "getNYDataByTopic(\"mass shooting\")\n",
    "getNYDataByTopic(\"School shooting\")\n",
    "getNYDataByTopic(\"violence\")\n",
    "getNYDataByTopic(\"gun laws\")\n",
    "\n",
    "\n"
   ]
  }
 ],
 "metadata": {
  "anaconda-cloud": {},
  "kernelspec": {
   "display_name": "Python [conda root]",
   "language": "python",
   "name": "conda-root-py"
  },
  "language_info": {
   "codemirror_mode": {
    "name": "ipython",
    "version": 3
   },
   "file_extension": ".py",
   "mimetype": "text/x-python",
   "name": "python",
   "nbconvert_exporter": "python",
   "pygments_lexer": "ipython3",
   "version": "3.5.2"
  }
 },
 "nbformat": 4,
 "nbformat_minor": 1
}
