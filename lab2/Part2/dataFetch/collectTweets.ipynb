{
 "cells": [
  {
   "cell_type": "code",
   "execution_count": null,
   "metadata": {
    "collapsed": true
   },
   "outputs": [],
   "source": [
    "# import tweepy\n",
    "import csv\n",
    "import json\n",
    "\n",
    "#Twitter API credentials\n",
    "consumer_key = \"634OF57Ekltzd2q3f7CuqVleO\"\n",
    "consumer_secret = \"bGqR4qY2yiZqWi4A9383VMZMxfsuNoTcy36aUy5i46AI0FNNQM\"\n",
    "access_token = \"796216345939546113-AhFyVdp5e3WUsCxxoylVH8J6r4hmXl8\"\n",
    "access_token_secret = \"33AcHR9tIy7MOo4GToXSylVVrmRX1KJqtX1fcfCdIT0BC\"\n",
    "\n",
    "# #Twitter API credentials\n",
    "# consumer_key = \"xxnT9Yq3j6YvATGT04E0C8ASH\"\n",
    "# consumer_secret = \"lVM3BFFTT8i1qjQhX9FM2CKdum6h8iVrCcZfqWntTk02oWm08M\"\n",
    "# access_token = \"57972043-A4xUZwhzLY9hCgwTRRYN2yytdRcTfayjQwELg8blm\"\n",
    "# access_token_secret = \"NNivHGb0hEPjNCWwSogIUGSQ3SNPeLGnbL4gbyrxAhbE3\"\n",
    "\n",
    "# authorize twitter\n",
    "auth = tweepy.OAuthHandler(consumer_key, consumer_secret)\n",
    "auth.set_access_token(access_token, access_token_secret)\n",
    "\n",
    "api = tweepy.API(auth)\n",
    "\n",
    "user = api.me()\n",
    "# api.update_status('First Tweet generated from the python package, tweepy')\n",
    "print('Name: ' + user.name)\n",
    "print('Location: ' + user.location)\n",
    "print('Friends: ' + str(user.friends_count))\n",
    "\n",
    "# source : https://www.pythoncentral.io/introduction-to-tweepy-twitter-for-python/\n",
    "\n",
    "\n",
    "# # Open/create a file to append data to\n",
    "# TwitterData= open('twitterdata_March.csv', 'a')\n",
    "\n",
    "# #Use csv writer\n",
    "# writeCSV = csv.writer(TwitterData)\n",
    "\n",
    "# for tweet in tweepy.Cursor(api.search,\n",
    "#                            q = \"gun violence\",lang=\"en\").items(20000):\n",
    "    \n",
    "# # Write a row to the CSV file. I use encode UTF-8\n",
    "#     writeCSV.writerow([tweet.text.encode(\"utf-8\")])\n",
    "# #     print(tweet.text)\n",
    "# TwitterData.close()\n",
    "\n",
    "   \n",
    "# Open/create a file to append data to\n",
    "TwitterData= open(\"./TwitterData/twitterdata_April5_2.txt\",\"w\")\n",
    "\n",
    "for tweet in tweepy.Cursor(api.search,\n",
    "                           q = \"gun laws\",lang=\"en\").items(1000):\n",
    "    \n",
    "    TwitterData.write(str(tweet.text.encode(\"utf-8\"))+\"\\n\")\n",
    "#     print(tweet.text.encode(\"utf-8\"))\n",
    "TwitterData.close()\n",
    "\n",
    "\n",
    "\n",
    "\n",
    "\n",
    "\n",
    "\n",
    "\n",
    "\n",
    "\n"
   ]
  },
  {
   "cell_type": "code",
   "execution_count": null,
   "metadata": {
    "collapsed": true
   },
   "outputs": [],
   "source": []
  }
 ],
 "metadata": {
  "anaconda-cloud": {},
  "kernelspec": {
   "display_name": "Python [default]",
   "language": "python",
   "name": "python3"
  },
  "language_info": {
   "codemirror_mode": {
    "name": "ipython",
    "version": 3
   },
   "file_extension": ".py",
   "mimetype": "text/x-python",
   "name": "python",
   "nbconvert_exporter": "python",
   "pygments_lexer": "ipython3",
   "version": "3.5.2"
  }
 },
 "nbformat": 4,
 "nbformat_minor": 1
}
