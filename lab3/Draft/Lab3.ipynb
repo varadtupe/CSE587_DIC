{
 "cells": [
  {
   "cell_type": "code",
   "execution_count": 76,
   "metadata": {},
   "outputs": [],
   "source": [
    "import requests\n",
    "from bs4 import BeautifulSoup\n",
    "session = requests.Session()\n",
    "import datetime\n",
    "import pandas as pd\n",
    "import time\n",
    "\n"
   ]
  },
  {
   "cell_type": "code",
   "execution_count": 83,
   "metadata": {},
   "outputs": [],
   "source": [
    "mainList = []\n",
    "def NYDataCollect(searchword):\n",
    "    url = \"http://api.nytimes.com/svc/search/v2/articlesearch.json?q=\"+searchword+\"&api-key=212fe9ffc7be4f99b8c82341ceed2e03\"\n",
    "    r = requests.get(url)\n",
    "    data = r.json()\n",
    "    # print(data)\n",
    "    return data[\"response\"][\"docs\"]\n",
    "\n",
    "def urlCollector(inpData):\n",
    "    urlList = []\n",
    "    for i in inpData:\n",
    "        urlList.append(i[\"web_url\"])\n",
    "    return urlList\n",
    "\n",
    "def articleText(url,folder):\n",
    "    try:\n",
    "        #print(\"Inside articleText\")\n",
    "        req = session.get(url)\n",
    "        soup = BeautifulSoup(req.text,\"lxml\")\n",
    "        paragraphs = soup.find_all('p', class_='story-body-text story-content')\n",
    "        article = \"\"\n",
    "        for i in paragraphs:\n",
    "            article = article + i.get_text()\n",
    "        print(article)\n",
    "        #writeToFile(article,\"nyData\",folder)\n",
    "        articleObj = {'article':article,'label':folder}\n",
    "        mainList.append(articleObj)\n",
    "        \n",
    "    except:\n",
    "        print(\"url problem for \" + url)\n",
    "\n",
    "def writeToFile(inpStr,folder,subfolder):\n",
    "    #print(\"Inside writeToFile\")\n",
    "    filename = \"./\"+ folder+ \"/\"+ subfolder+ \"/article_\" + datetime.datetime.fromtimestamp(time.time()).strftime('%Y_%m_%d_%H_%M_%S') + \".txt\"\n",
    "    print(filename)\n",
    "    dFile= open(filename,\"w\")\n",
    "    dFile.write(inpStr)\n",
    "    dFile.close()\n",
    "\n",
    "def getNYDataByTopic(topic,folder):\n",
    "    data = NYDataCollect(topic)\n",
    "    urls = urlCollector(data)\n",
    "    for i in urls:\n",
    "        print(i)\n",
    "        articleText(i,folder)"
   ]
  },
  {
   "cell_type": "code",
   "execution_count": 78,
   "metadata": {},
   "outputs": [],
   "source": [
    "politics = ['politics' ,'government' ,'democrats','republicans', 'elections', 'president trump' ,'gop' ,'senate','trump administration' ,'Electorate']\n",
    "business = ['finance',\t'stock',\t'markets',\t'economy',\t'money',\t'trade',\t'startups',\t'wall',\t'street',\t'financial']\n",
    "sports = 'tennis, football, basketball, soccer, golf, gymnastics, hockey, baseball, games, nfl, sports'.split(\",\")\n",
    "music = 'songlist song music concerts classical hip-hop jazz album singer songwriter grammy playlist'.split()\n",
    "# politics government democrats republicans elections president gop senate administration Electorate\n",
    "# political political party\n",
    "# getNYDataByTopic(\"investment\",\"business\")\n",
    "# finance stock markets economy money trade startups wall street financial \n",
    "# business business insider investors companies traders investment\n",
    "# getNYDataByTopic(\"hockey\",\"sports\") \n",
    "# tennis, football, basketball, soccer, golf, gymnastics, hockey, baseball, games, nfl, sports\n",
    "# getNYDataByTopic(\"playlist\",\"music\")\n",
    "# songlist song music concerts classical hip-hop jazz album singer songwriter grammy playlist\n",
    "\n",
    "# to clear empty files"
   ]
  },
  {
   "cell_type": "code",
   "execution_count": 64,
   "metadata": {
    "scrolled": true
   },
   "outputs": [
    {
     "name": "stdout",
     "output_type": "stream",
     "text": [
      "https://topics.nytimes.com/top/reference/timestopics/subjects/c/campaign_finance/index.html\n",
      "url problem for https://topics.nytimes.com/top/reference/timestopics/subjects/c/campaign_finance/index.html\n",
      "https://topics.nytimes.com/topic/subject/campaign-finance-super-pacs\n",
      "url problem for https://topics.nytimes.com/topic/subject/campaign-finance-super-pacs\n",
      "https://topics.nytimes.com/top/news/business/small-business/finance-and-capital/index.html\n",
      "url problem for https://topics.nytimes.com/top/news/business/small-business/finance-and-capital/index.html\n",
      "https://topics.nytimes.com/top/news/business/small-business/personal-finance/index.html\n",
      "url problem for https://topics.nytimes.com/top/news/business/small-business/personal-finance/index.html\n",
      "https://topics.nytimes.com/topic/company/new-mountain-finance-corporation\n",
      "url problem for https://topics.nytimes.com/topic/company/new-mountain-finance-corporation\n",
      "https://topics.nytimes.com/top/news/business/companies/commercial-national-finance-corporation/index.html\n",
      "url problem for https://topics.nytimes.com/top/news/business/companies/commercial-national-finance-corporation/index.html\n",
      "https://topics.nytimes.com/top/news/business/companies/new-mountain-finance-corporation/index.html\n",
      "url problem for https://topics.nytimes.com/top/news/business/companies/new-mountain-finance-corporation/index.html\n",
      "https://topics.nytimes.com/topic/company/ship-finance-international-ltd\n",
      "url problem for https://topics.nytimes.com/topic/company/ship-finance-international-ltd\n",
      "https://topics.nytimes.com/topic/company/horizon-technology-finance-corporation\n",
      "url problem for https://topics.nytimes.com/topic/company/horizon-technology-finance-corporation\n",
      "https://topics.nytimes.com/top/news/business/companies/chaolei-marketing-and-finance/index.html\n",
      "url problem for https://topics.nytimes.com/top/news/business/companies/chaolei-marketing-and-finance/index.html\n",
      "https://www.nytimes.com/2018/03/19/theater/review-old-stock-hannah-moscovitch.html\n",
      "url problem for https://www.nytimes.com/2018/03/19/theater/review-old-stock-hannah-moscovitch.html\n",
      "https://topics.nytimes.com/top/news/business/companies/palmerston-stock-agency-inc/index.html\n",
      "url problem for https://topics.nytimes.com/top/news/business/companies/palmerston-stock-agency-inc/index.html\n",
      "https://topics.nytimes.com/top/reference/timestopics/organizations/n/new_york_stock_exchange/index.html\n",
      "url problem for https://topics.nytimes.com/top/reference/timestopics/organizations/n/new_york_stock_exchange/index.html\n",
      "https://topics.nytimes.com/topic/organization/nasdaq-stock-market\n",
      "url problem for https://topics.nytimes.com/topic/organization/nasdaq-stock-market\n",
      "https://topics.nytimes.com/top/reference/timestopics/organizations/n/nasdaq_stock_market/index.html\n",
      "url problem for https://topics.nytimes.com/top/reference/timestopics/organizations/n/nasdaq_stock_market/index.html\n",
      "https://topics.nytimes.com/topic/subject/dow-jones-industrial-average\n",
      "url problem for https://topics.nytimes.com/topic/subject/dow-jones-industrial-average\n",
      "https://topics.nytimes.com/top/reference/timestopics/subjects/d/dow_jones_stock_average/index.html\n",
      "url problem for https://topics.nytimes.com/top/reference/timestopics/subjects/d/dow_jones_stock_average/index.html\n",
      "https://topics.nytimes.com/topic/company/stock-building-supply-holdings-inc\n",
      "url problem for https://topics.nytimes.com/topic/company/stock-building-supply-holdings-inc\n",
      "https://www.nytimes.com/2018/02/08/business/stock-market-correction.html\n",
      "url problem for https://www.nytimes.com/2018/02/08/business/stock-market-correction.html\n",
      "https://topics.nytimes.com/top/reference/timestopics/organizations/n/national_association_of_stock_car_auto_racing/index.html\n",
      "url problem for https://topics.nytimes.com/top/reference/timestopics/organizations/n/national_association_of_stock_car_auto_racing/index.html\n",
      "https://topics.nytimes.com/top/news/business/markets/index.html\n",
      "url problem for https://topics.nytimes.com/top/news/business/markets/index.html\n",
      "https://topics.nytimes.com/topic/subject/markets\n",
      "url problem for https://topics.nytimes.com/topic/subject/markets\n",
      "https://www.nytimes.com/2018/04/02/books/review/robert-reich-common-good.html\n",
      "url problem for https://www.nytimes.com/2018/04/02/books/review/robert-reich-common-good.html\n",
      "https://topics.nytimes.com/topic/subject/black-markets\n",
      "url problem for https://topics.nytimes.com/topic/subject/black-markets\n",
      "https://topics.nytimes.com/top/reference/timestopics/subjects/m/mortgages/index.html\n",
      "url problem for https://topics.nytimes.com/top/reference/timestopics/subjects/m/mortgages/index.html\n",
      "https://topics.nytimes.com/top/reference/timestopics/subjects/b/black_markets/index.html\n",
      "url problem for https://topics.nytimes.com/top/reference/timestopics/subjects/b/black_markets/index.html\n",
      "https://topics.nytimes.com/topic/subject/mortgages-and-the-markets\n",
      "url problem for https://topics.nytimes.com/topic/subject/mortgages-and-the-markets\n",
      "https://www.nytimes.com/2018/03/02/opinion/the-supreme-court-case-that-could-give-tech-giants-more-power.html\n",
      "url problem for https://www.nytimes.com/2018/03/02/opinion/the-supreme-court-case-that-could-give-tech-giants-more-power.html\n",
      "https://topics.nytimes.com/topic/company/weis-markets-inc\n",
      "url problem for https://topics.nytimes.com/topic/company/weis-markets-inc\n",
      "https://topics.nytimes.com/topic/company/otc-markets-group-inc\n",
      "url problem for https://topics.nytimes.com/topic/company/otc-markets-group-inc\n",
      "https://topics.nytimes.com/top/opinion/economy/index.html\n",
      "url problem for https://topics.nytimes.com/top/opinion/economy/index.html\n",
      "https://www.nytimes.com/pages/business/economy/index.html\n",
      "url problem for https://www.nytimes.com/pages/business/economy/index.html\n",
      "https://www.nytimes.com/2018/03/08/opinion/italy-europe-election.html\n",
      "url problem for https://www.nytimes.com/2018/03/08/opinion/italy-europe-election.html\n",
      "https://www.nytimes.com/2018/03/20/business/economy/economy-recovery.html\n",
      "url problem for https://www.nytimes.com/2018/03/20/business/economy/economy-recovery.html\n",
      "https://topics.nytimes.com/top/features/magazine/columns/its_the_economy/index.html\n",
      "url problem for https://topics.nytimes.com/top/features/magazine/columns/its_the_economy/index.html\n",
      "https://www.nytimes.com/2018/02/21/business/economy/fed-economy.html\n",
      "url problem for https://www.nytimes.com/2018/02/21/business/economy/fed-economy.html\n",
      "https://www.nytimes.com/2018/02/04/business/economy/powell-steps-becomes-fed-chief-as-economy-starts-to-show-strain.html\n",
      "url problem for https://www.nytimes.com/2018/02/04/business/economy/powell-steps-becomes-fed-chief-as-economy-starts-to-show-strain.html\n",
      "https://www.nytimes.com/2018/02/01/business/economy/trump-tax-cuts-economy.html\n",
      "url problem for https://www.nytimes.com/2018/02/01/business/economy/trump-tax-cuts-economy.html\n",
      "https://www.nytimes.com/2018/03/19/business/economy/china-xi-jinping-liu-he.html\n",
      "url problem for https://www.nytimes.com/2018/03/19/business/economy/china-xi-jinping-liu-he.html\n",
      "https://topics.nytimes.com/topic/subject/united-states-economy\n",
      "url problem for https://topics.nytimes.com/topic/subject/united-states-economy\n",
      "https://www.nytimes.com/2018/03/21/your-money/college-application-essays-about-money-race-class.html\n",
      "url problem for https://www.nytimes.com/2018/03/21/your-money/college-application-essays-about-money-race-class.html\n",
      "https://www.nytimes.com/2017/12/24/movies/all-the-money-in-the-world-review-christopher-plummer.html\n",
      "url problem for https://www.nytimes.com/2017/12/24/movies/all-the-money-in-the-world-review-christopher-plummer.html\n",
      "https://www.nytimes.com/2018/04/16/your-money/marriott-starwood-loyalty-program.html\n",
      "url problem for https://www.nytimes.com/2018/04/16/your-money/marriott-starwood-loyalty-program.html\n",
      "https://www.nytimes.com/2018/04/06/your-money/public-servants-student-loans.html\n",
      "url problem for https://www.nytimes.com/2018/04/06/your-money/public-servants-student-loans.html\n",
      "https://topics.nytimes.com/your-money/money-through-the-ages/index.html\n",
      "url problem for https://topics.nytimes.com/your-money/money-through-the-ages/index.html\n",
      "https://www.nytimes.com/2018/03/30/your-money/student-public-service-loan-forgiveness-program.html\n",
      "url problem for https://www.nytimes.com/2018/03/30/your-money/student-public-service-loan-forgiveness-program.html\n",
      "https://www.nytimes.com/pages/your-money/index.html\n"
     ]
    },
    {
     "name": "stdout",
     "output_type": "stream",
     "text": [
      "url problem for https://www.nytimes.com/pages/your-money/index.html\n",
      "https://www.nytimes.com/pages/your-money/your-money-email/index.html\n",
      "url problem for https://www.nytimes.com/pages/your-money/your-money-email/index.html\n",
      "https://www.nytimes.com/2018/04/20/your-money/state-retirement-accounts.html\n",
      "url problem for https://www.nytimes.com/2018/04/20/your-money/state-retirement-accounts.html\n",
      "https://www.nytimes.com/2018/03/16/your-money/403b-annuities.html\n",
      "url problem for https://www.nytimes.com/2018/03/16/your-money/403b-annuities.html\n",
      "https://www.nytimes.com/2017/11/28/opinion/trump-trade-nafta.html\n",
      "url problem for https://www.nytimes.com/2017/11/28/opinion/trump-trade-nafta.html\n",
      "https://www.nytimes.com/2018/04/06/opinion/trump-trade.html\n",
      "url problem for https://www.nytimes.com/2018/04/06/opinion/trump-trade.html\n",
      "https://www.nytimes.com/2018/03/24/business/economy/how-trade-wars-begin.html\n",
      "url problem for https://www.nytimes.com/2018/03/24/business/economy/how-trade-wars-begin.html\n",
      "https://www.nytimes.com/2018/03/16/books/review/built-roma-agrawal.html\n",
      "url problem for https://www.nytimes.com/2018/03/16/books/review/built-roma-agrawal.html\n",
      "https://www.nytimes.com/2018/03/08/opinion/trump-trade-tariffs-steel.html\n",
      "url problem for https://www.nytimes.com/2018/03/08/opinion/trump-trade-tariffs-steel.html\n",
      "https://www.nytimes.com/2018/03/08/opinion/donald-trump-trade-tariffs.html\n",
      "url problem for https://www.nytimes.com/2018/03/08/opinion/donald-trump-trade-tariffs.html\n",
      "https://topics.nytimes.com/top/reference/timestopics/subjects/p/protectionism_trade/index.html\n",
      "url problem for https://topics.nytimes.com/top/reference/timestopics/subjects/p/protectionism_trade/index.html\n",
      "https://topics.nytimes.com/top/reference/timestopics/subjects/a/arms_sales_abroad/index.html\n",
      "url problem for https://topics.nytimes.com/top/reference/timestopics/subjects/a/arms_sales_abroad/index.html\n",
      "https://topics.nytimes.com/topic/subject/protectionism-trade\n",
      "url problem for https://topics.nytimes.com/topic/subject/protectionism-trade\n",
      "https://www.nytimes.com/video/business/100000005788184/what-bananas-tell-us-about-trade-wars.html\n",
      "url problem for https://www.nytimes.com/video/business/100000005788184/what-bananas-tell-us-about-trade-wars.html\n",
      "https://www.nytimes.com/reuters/2018/04/19/business/19reuters-investment-fort-ross.html\n",
      "url problem for https://www.nytimes.com/reuters/2018/04/19/business/19reuters-investment-fort-ross.html\n",
      "https://www.nytimes.com/2017/07/03/technology/silicon-valley-sexual-harassment.html\n",
      "url problem for https://www.nytimes.com/2017/07/03/technology/silicon-valley-sexual-harassment.html\n",
      "https://www.nytimes.com/2017/07/05/world/australia/letter17-lismore-rural-resilience-after-a-flood-doma-byron-bay.html\n",
      "url problem for https://www.nytimes.com/2017/07/05/world/australia/letter17-lismore-rural-resilience-after-a-flood-doma-byron-bay.html\n",
      "https://www.nytimes.com/2017/09/27/technology/when-tech-disrupts-wealth-and-stability-angels-may-be-solution.html\n",
      "url problem for https://www.nytimes.com/2017/09/27/technology/when-tech-disrupts-wealth-and-stability-angels-may-be-solution.html\n",
      "https://www.nytimes.com/2017/07/03/technology/sexual-harassment-silicon-valley-tech.html\n",
      "url problem for https://www.nytimes.com/2017/07/03/technology/sexual-harassment-silicon-valley-tech.html\n",
      "https://www.nytimes.com/reuters/2016/10/20/business/20reuters-britain-eu-berlin.html\n",
      "url problem for https://www.nytimes.com/reuters/2016/10/20/business/20reuters-britain-eu-berlin.html\n",
      "https://www.nytimes.com/reuters/2016/10/06/business/06reuters-venture-investments.html\n",
      "url problem for https://www.nytimes.com/reuters/2016/10/06/business/06reuters-venture-investments.html\n",
      "https://www.nytimes.com/reuters/2016/09/26/business/26reuters-canvas-fundraising.html\n",
      "url problem for https://www.nytimes.com/reuters/2016/09/26/business/26reuters-canvas-fundraising.html\n",
      "https://www.nytimes.com/reuters/2016/08/28/technology/28reuters-nutanix-acquisition.html\n",
      "url problem for https://www.nytimes.com/reuters/2016/08/28/technology/28reuters-nutanix-acquisition.html\n",
      "https://www.nytimes.com/reuters/2016/09/14/business/14reuters-sapphire-fundraising.html\n",
      "url problem for https://www.nytimes.com/reuters/2016/09/14/business/14reuters-sapphire-fundraising.html\n",
      "https://www.nytimes.com/2018/02/09/opinion/sunday/steven-cohen-wall-street.html\n",
      "url problem for https://www.nytimes.com/2018/02/09/opinion/sunday/steven-cohen-wall-street.html\n",
      "https://topics.nytimes.com/top/reference/timestopics/subjects/b/berlin_wall/index.html\n",
      "url problem for https://topics.nytimes.com/top/reference/timestopics/subjects/b/berlin_wall/index.html\n",
      "https://topics.nytimes.com/top/reference/timestopics/organizations/o/occupy_wall_street/index.html\n",
      "url problem for https://topics.nytimes.com/top/reference/timestopics/organizations/o/occupy_wall_street/index.html\n",
      "https://topics.nytimes.com/topic/organization/wall-street-journal\n",
      "url problem for https://topics.nytimes.com/topic/organization/wall-street-journal\n",
      "https://topics.nytimes.com/top/reference/timestopics/organizations/w/wall_street_journal/index.html\n",
      "url problem for https://topics.nytimes.com/top/reference/timestopics/organizations/w/wall_street_journal/index.html\n",
      "https://www.nytimes.com/2018/03/27/opinion/china-economy-state-capitalism-winning.html\n",
      "url problem for https://www.nytimes.com/2018/03/27/opinion/china-economy-state-capitalism-winning.html\n",
      "https://health.nytimes.com/health/guides/surgery/anterior-vaginal-wall-repair/overview.html\n",
      "url problem for https://health.nytimes.com/health/guides/surgery/anterior-vaginal-wall-repair/overview.html\n",
      "https://www.nytimes.com/2018/04/19/nyregion/fearless-girl-wall-street-bull-statue-move.html\n",
      "url problem for https://www.nytimes.com/2018/04/19/nyregion/fearless-girl-wall-street-bull-statue-move.html\n",
      "https://www.nytimes.com/2018/04/06/opinion/trumps-bad-mood-the-spending-bill-border-wall.html\n",
      "url problem for https://www.nytimes.com/2018/04/06/opinion/trumps-bad-mood-the-spending-bill-border-wall.html\n",
      "https://health.nytimes.com/health/guides/surgery/abdominal-wall-surgery/overview.html\n",
      "url problem for https://health.nytimes.com/health/guides/surgery/abdominal-wall-surgery/overview.html\n",
      "https://www.nytimes.com/2018/02/09/opinion/sunday/steven-cohen-wall-street.html\n",
      "url problem for https://www.nytimes.com/2018/02/09/opinion/sunday/steven-cohen-wall-street.html\n",
      "https://www.nytimes.com/2018/02/14/style/tommy-pico-native-american-poet-brooklyn.html\n",
      "url problem for https://www.nytimes.com/2018/02/14/style/tommy-pico-native-american-poet-brooklyn.html\n",
      "https://www.nytimes.com/video/movies/100000005666618/trailer-beirut.html\n",
      "url problem for https://www.nytimes.com/video/movies/100000005666618/trailer-beirut.html\n",
      "https://www.nytimes.com/2018/03/28/books/review-street-philosophy-of-garry-winogrand-geoff-dyer.html\n",
      "url problem for https://www.nytimes.com/2018/03/28/books/review-street-philosophy-of-garry-winogrand-geoff-dyer.html\n",
      "https://topics.nytimes.com/top/reference/timestopics/subjects/s/sesame_street/index.html\n",
      "url problem for https://topics.nytimes.com/top/reference/timestopics/subjects/s/sesame_street/index.html\n",
      "https://www.nytimes.com/2018/04/18/magazine/the-magic-of-books-where-photography-meets-essays.html\n",
      "url problem for https://www.nytimes.com/2018/04/18/magazine/the-magic-of-books-where-photography-meets-essays.html\n",
      "https://topics.nytimes.com/top/news/newyorkandregion/columns/side_street/index.html\n",
      "url problem for https://topics.nytimes.com/top/news/newyorkandregion/columns/side_street/index.html\n",
      "https://www.nytimes.com/2017/09/19/movies/thirst-street-review.html\n",
      "url problem for https://www.nytimes.com/2017/09/19/movies/thirst-street-review.html\n",
      "https://www.nytimes.com/2018/04/06/fashion/paris-ritz-auction-hemingway-chanel.html\n",
      "url problem for https://www.nytimes.com/2018/04/06/fashion/paris-ritz-auction-hemingway-chanel.html\n",
      "https://www.nytimes.com/pages/fashion/street/index.html\n",
      "url problem for https://www.nytimes.com/pages/fashion/street/index.html\n",
      "https://topics.nytimes.com/topic/company/hanmi-financial-corporation\n",
      "url problem for https://topics.nytimes.com/topic/company/hanmi-financial-corporation\n",
      "https://www.nytimes.com/2018/04/20/your-money/experts-david-baker.html\n"
     ]
    },
    {
     "name": "stdout",
     "output_type": "stream",
     "text": [
      "url problem for https://www.nytimes.com/2018/04/20/your-money/experts-david-baker.html\n",
      "https://topics.nytimes.com/your-money/planning/financial-planners/index.html\n",
      "url problem for https://topics.nytimes.com/your-money/planning/financial-planners/index.html\n",
      "https://topics.nytimes.com/top/news/business/companies/hanmi-financial/index.html\n",
      "url problem for https://topics.nytimes.com/top/news/business/companies/hanmi-financial/index.html\n",
      "https://topics.nytimes.com/topic/subject/financial-planners\n",
      "url problem for https://topics.nytimes.com/topic/subject/financial-planners\n",
      "https://www.nytimes.com/2018/02/25/books/review/chris-hughes-fair-shot.html\n",
      "url problem for https://www.nytimes.com/2018/02/25/books/review/chris-hughes-fair-shot.html\n",
      "https://topics.nytimes.com/your-money/financial-tuneup/index.html\n",
      "url problem for https://topics.nytimes.com/your-money/financial-tuneup/index.html\n",
      "https://www.nytimes.com/2018/02/23/opinion/australias-gun-laws-america.html\n",
      "url problem for https://www.nytimes.com/2018/02/23/opinion/australias-gun-laws-america.html\n",
      "https://topics.nytimes.com/top/news/business/companies/synchrony-financial/index.html\n",
      "url problem for https://topics.nytimes.com/top/news/business/companies/synchrony-financial/index.html\n",
      "https://topics.nytimes.com/topic/company/synchrony-financial\n",
      "url problem for https://topics.nytimes.com/topic/company/synchrony-financial\n"
     ]
    }
   ],
   "source": [
    "for i in business:\n",
    "    getNYDataByTopic(i,\"Business\")"
   ]
  },
  {
   "cell_type": "code",
   "execution_count": 84,
   "metadata": {
    "scrolled": true
   },
   "outputs": [
    {
     "name": "stdout",
     "output_type": "stream",
     "text": [
      "https://www.nytimes.com/2018/02/06/sports/ncaafootball/national-signing-day.html\n",
      "url problem for https://www.nytimes.com/2018/02/06/sports/ncaafootball/national-signing-day.html\n",
      "https://topics.nytimes.com/topic/subject/football\n",
      "url problem for https://topics.nytimes.com/topic/subject/football\n",
      "https://topics.nytimes.com/top/reference/timestopics/subjects/f/football/index.html\n",
      "url problem for https://topics.nytimes.com/top/reference/timestopics/subjects/f/football/index.html\n",
      "https://www.nytimes.com/2018/03/20/sports/football/alliance-of-american-football.html\n",
      "url problem for https://www.nytimes.com/2018/03/20/sports/football/alliance-of-american-football.html\n",
      "https://topics.nytimes.com/top/reference/timestopics/subjects/f/fantasy_football/index.html\n",
      "url problem for https://topics.nytimes.com/top/reference/timestopics/subjects/f/fantasy_football/index.html\n",
      "https://topics.nytimes.com/topic/subject/fantasy-football-news-rankings-and-analysis\n",
      "url problem for https://topics.nytimes.com/topic/subject/fantasy-football-news-rankings-and-analysis\n",
      "https://www.nytimes.com/2018/02/02/sports/football/watch-nfl-dilemma.html\n",
      "url problem for https://www.nytimes.com/2018/02/02/sports/football/watch-nfl-dilemma.html\n",
      "https://www.nytimes.com/2017/12/28/sports/fantasy-football-nfl-week-17.html\n",
      "url problem for https://www.nytimes.com/2017/12/28/sports/fantasy-football-nfl-week-17.html\n",
      "https://www.nytimes.com/2018/01/30/sports/football/nfl.html\n",
      "url problem for https://www.nytimes.com/2018/01/30/sports/football/nfl.html\n",
      "https://www.nytimes.com/2017/11/16/sports/football/fantasy-football-who-to-start-in-nfl-week-11.html\n",
      "url problem for https://www.nytimes.com/2017/11/16/sports/football/fantasy-football-who-to-start-in-nfl-week-11.html\n"
     ]
    }
   ],
   "source": [
    "getNYDataByTopic('football',\"sports\")"
   ]
  },
  {
   "cell_type": "code",
   "execution_count": 82,
   "metadata": {},
   "outputs": [
    {
     "data": {
      "text/plain": [
       "[]"
      ]
     },
     "execution_count": 82,
     "metadata": {},
     "output_type": "execute_result"
    }
   ],
   "source": [
    "mainList"
   ]
  },
  {
   "cell_type": "code",
   "execution_count": 4,
   "metadata": {},
   "outputs": [],
   "source": [
    "import glob\n"
   ]
  },
  {
   "cell_type": "code",
   "execution_count": 11,
   "metadata": {},
   "outputs": [],
   "source": [
    "musicFiles = glob.glob(\"./nyData/music/*\")\n",
    "businessFiles = glob.glob(\"./nyData/business/*\")\n",
    "politicsFiles = glob.glob(\"./nyData/politics/*\")\n",
    "sportsFiles = glob.glob(\"./nyData/sports/*\")"
   ]
  },
  {
   "cell_type": "code",
   "execution_count": 25,
   "metadata": {},
   "outputs": [
    {
     "ename": "UnicodeDecodeError",
     "evalue": "'utf-8' codec can't decode byte 0x92 in position 21: invalid start byte",
     "output_type": "error",
     "traceback": [
      "\u001b[0;31m---------------------------------------------------------------------------\u001b[0m",
      "\u001b[0;31mUnicodeDecodeError\u001b[0m                        Traceback (most recent call last)",
      "\u001b[0;32m<ipython-input-25-69faa5a8d371>\u001b[0m in \u001b[0;36m<module>\u001b[0;34m()\u001b[0m\n\u001b[1;32m      1\u001b[0m \u001b[0;32mwith\u001b[0m \u001b[0mopen\u001b[0m \u001b[0;34m(\u001b[0m\u001b[0mmusicFiles\u001b[0m\u001b[0;34m[\u001b[0m\u001b[0;36m0\u001b[0m\u001b[0;34m]\u001b[0m\u001b[0;34m,\u001b[0m \u001b[0;34m\"r\"\u001b[0m\u001b[0;34m,\u001b[0m\u001b[0mencoding\u001b[0m\u001b[0;34m=\u001b[0m\u001b[0;34m'utf8'\u001b[0m\u001b[0;34m)\u001b[0m \u001b[0;32mas\u001b[0m \u001b[0mmyfile\u001b[0m\u001b[0;34m:\u001b[0m\u001b[0;34m\u001b[0m\u001b[0m\n\u001b[0;32m----> 2\u001b[0;31m     \u001b[0mprint\u001b[0m\u001b[0;34m(\u001b[0m\u001b[0mmyfile\u001b[0m\u001b[0;34m.\u001b[0m\u001b[0mread\u001b[0m\u001b[0;34m(\u001b[0m\u001b[0;34m)\u001b[0m\u001b[0;34m)\u001b[0m\u001b[0;34m\u001b[0m\u001b[0m\n\u001b[0m",
      "\u001b[0;32m/anaconda/lib/python3.6/codecs.py\u001b[0m in \u001b[0;36mdecode\u001b[0;34m(self, input, final)\u001b[0m\n\u001b[1;32m    319\u001b[0m         \u001b[0;31m# decode input (taking the buffer into account)\u001b[0m\u001b[0;34m\u001b[0m\u001b[0;34m\u001b[0m\u001b[0m\n\u001b[1;32m    320\u001b[0m         \u001b[0mdata\u001b[0m \u001b[0;34m=\u001b[0m \u001b[0mself\u001b[0m\u001b[0;34m.\u001b[0m\u001b[0mbuffer\u001b[0m \u001b[0;34m+\u001b[0m \u001b[0minput\u001b[0m\u001b[0;34m\u001b[0m\u001b[0m\n\u001b[0;32m--> 321\u001b[0;31m         \u001b[0;34m(\u001b[0m\u001b[0mresult\u001b[0m\u001b[0;34m,\u001b[0m \u001b[0mconsumed\u001b[0m\u001b[0;34m)\u001b[0m \u001b[0;34m=\u001b[0m \u001b[0mself\u001b[0m\u001b[0;34m.\u001b[0m\u001b[0m_buffer_decode\u001b[0m\u001b[0;34m(\u001b[0m\u001b[0mdata\u001b[0m\u001b[0;34m,\u001b[0m \u001b[0mself\u001b[0m\u001b[0;34m.\u001b[0m\u001b[0merrors\u001b[0m\u001b[0;34m,\u001b[0m \u001b[0mfinal\u001b[0m\u001b[0;34m)\u001b[0m\u001b[0;34m\u001b[0m\u001b[0m\n\u001b[0m\u001b[1;32m    322\u001b[0m         \u001b[0;31m# keep undecoded input until the next call\u001b[0m\u001b[0;34m\u001b[0m\u001b[0;34m\u001b[0m\u001b[0m\n\u001b[1;32m    323\u001b[0m         \u001b[0mself\u001b[0m\u001b[0;34m.\u001b[0m\u001b[0mbuffer\u001b[0m \u001b[0;34m=\u001b[0m \u001b[0mdata\u001b[0m\u001b[0;34m[\u001b[0m\u001b[0mconsumed\u001b[0m\u001b[0;34m:\u001b[0m\u001b[0;34m]\u001b[0m\u001b[0;34m\u001b[0m\u001b[0m\n",
      "\u001b[0;31mUnicodeDecodeError\u001b[0m: 'utf-8' codec can't decode byte 0x92 in position 21: invalid start byte"
     ]
    }
   ],
   "source": [
    "with open (musicFiles[0], \"r\",encoding='utf8') as myfile:\n",
    "    myfile.read()"
   ]
  },
  {
   "cell_type": "code",
   "execution_count": 70,
   "metadata": {},
   "outputs": [],
   "source": [
    "file  = open(musicFiles[1], \"r\",encoding='utf-8-sig')"
   ]
  },
  {
   "cell_type": "code",
   "execution_count": 71,
   "metadata": {},
   "outputs": [
    {
     "data": {
      "text/plain": [
       "'./nyData/music/article_2018_04_20_18_39_34.txt'"
      ]
     },
     "execution_count": 71,
     "metadata": {},
     "output_type": "execute_result"
    }
   ],
   "source": [
    "musicFiles[0]"
   ]
  },
  {
   "cell_type": "code",
   "execution_count": 72,
   "metadata": {},
   "outputs": [
    {
     "ename": "UnicodeDecodeError",
     "evalue": "'utf-8' codec can't decode byte 0x97 in position 62: invalid start byte",
     "output_type": "error",
     "traceback": [
      "\u001b[0;31m---------------------------------------------------------------------------\u001b[0m",
      "\u001b[0;31mUnicodeDecodeError\u001b[0m                        Traceback (most recent call last)",
      "\u001b[0;32m<ipython-input-72-a9eac177bca9>\u001b[0m in \u001b[0;36m<module>\u001b[0;34m()\u001b[0m\n\u001b[0;32m----> 1\u001b[0;31m \u001b[0mfRead\u001b[0m \u001b[0;34m=\u001b[0m \u001b[0mfile\u001b[0m\u001b[0;34m.\u001b[0m\u001b[0mread\u001b[0m\u001b[0;34m(\u001b[0m\u001b[0;34m)\u001b[0m\u001b[0;34m\u001b[0m\u001b[0m\n\u001b[0m",
      "\u001b[0;32m/anaconda/lib/python3.6/codecs.py\u001b[0m in \u001b[0;36mdecode\u001b[0;34m(self, input, final)\u001b[0m\n\u001b[1;32m    319\u001b[0m         \u001b[0;31m# decode input (taking the buffer into account)\u001b[0m\u001b[0;34m\u001b[0m\u001b[0;34m\u001b[0m\u001b[0m\n\u001b[1;32m    320\u001b[0m         \u001b[0mdata\u001b[0m \u001b[0;34m=\u001b[0m \u001b[0mself\u001b[0m\u001b[0;34m.\u001b[0m\u001b[0mbuffer\u001b[0m \u001b[0;34m+\u001b[0m \u001b[0minput\u001b[0m\u001b[0;34m\u001b[0m\u001b[0m\n\u001b[0;32m--> 321\u001b[0;31m         \u001b[0;34m(\u001b[0m\u001b[0mresult\u001b[0m\u001b[0;34m,\u001b[0m \u001b[0mconsumed\u001b[0m\u001b[0;34m)\u001b[0m \u001b[0;34m=\u001b[0m \u001b[0mself\u001b[0m\u001b[0;34m.\u001b[0m\u001b[0m_buffer_decode\u001b[0m\u001b[0;34m(\u001b[0m\u001b[0mdata\u001b[0m\u001b[0;34m,\u001b[0m \u001b[0mself\u001b[0m\u001b[0;34m.\u001b[0m\u001b[0merrors\u001b[0m\u001b[0;34m,\u001b[0m \u001b[0mfinal\u001b[0m\u001b[0;34m)\u001b[0m\u001b[0;34m\u001b[0m\u001b[0m\n\u001b[0m\u001b[1;32m    322\u001b[0m         \u001b[0;31m# keep undecoded input until the next call\u001b[0m\u001b[0;34m\u001b[0m\u001b[0;34m\u001b[0m\u001b[0m\n\u001b[1;32m    323\u001b[0m         \u001b[0mself\u001b[0m\u001b[0;34m.\u001b[0m\u001b[0mbuffer\u001b[0m \u001b[0;34m=\u001b[0m \u001b[0mdata\u001b[0m\u001b[0;34m[\u001b[0m\u001b[0mconsumed\u001b[0m\u001b[0;34m:\u001b[0m\u001b[0;34m]\u001b[0m\u001b[0;34m\u001b[0m\u001b[0m\n",
      "\u001b[0;32m/anaconda/lib/python3.6/encodings/utf_8_sig.py\u001b[0m in \u001b[0;36m_buffer_decode\u001b[0;34m(self, input, errors, final)\u001b[0m\n\u001b[1;32m     67\u001b[0m                        \u001b[0mcodecs\u001b[0m\u001b[0;34m.\u001b[0m\u001b[0mutf_8_decode\u001b[0m\u001b[0;34m(\u001b[0m\u001b[0minput\u001b[0m\u001b[0;34m[\u001b[0m\u001b[0;36m3\u001b[0m\u001b[0;34m:\u001b[0m\u001b[0;34m]\u001b[0m\u001b[0;34m,\u001b[0m \u001b[0merrors\u001b[0m\u001b[0;34m,\u001b[0m \u001b[0mfinal\u001b[0m\u001b[0;34m)\u001b[0m\u001b[0;34m\u001b[0m\u001b[0m\n\u001b[1;32m     68\u001b[0m                     \u001b[0;32mreturn\u001b[0m \u001b[0;34m(\u001b[0m\u001b[0moutput\u001b[0m\u001b[0;34m,\u001b[0m \u001b[0mconsumed\u001b[0m\u001b[0;34m+\u001b[0m\u001b[0;36m3\u001b[0m\u001b[0;34m)\u001b[0m\u001b[0;34m\u001b[0m\u001b[0m\n\u001b[0;32m---> 69\u001b[0;31m         \u001b[0;32mreturn\u001b[0m \u001b[0mcodecs\u001b[0m\u001b[0;34m.\u001b[0m\u001b[0mutf_8_decode\u001b[0m\u001b[0;34m(\u001b[0m\u001b[0minput\u001b[0m\u001b[0;34m,\u001b[0m \u001b[0merrors\u001b[0m\u001b[0;34m,\u001b[0m \u001b[0mfinal\u001b[0m\u001b[0;34m)\u001b[0m\u001b[0;34m\u001b[0m\u001b[0m\n\u001b[0m\u001b[1;32m     70\u001b[0m \u001b[0;34m\u001b[0m\u001b[0m\n\u001b[1;32m     71\u001b[0m     \u001b[0;32mdef\u001b[0m \u001b[0mreset\u001b[0m\u001b[0;34m(\u001b[0m\u001b[0mself\u001b[0m\u001b[0;34m)\u001b[0m\u001b[0;34m:\u001b[0m\u001b[0;34m\u001b[0m\u001b[0m\n",
      "\u001b[0;31mUnicodeDecodeError\u001b[0m: 'utf-8' codec can't decode byte 0x97 in position 62: invalid start byte"
     ]
    }
   ],
   "source": [
    "fRead = file.read()"
   ]
  },
  {
   "cell_type": "code",
   "execution_count": 73,
   "metadata": {},
   "outputs": [
    {
     "name": "stdout",
     "output_type": "stream",
     "text": [
      "\n"
     ]
    }
   ],
   "source": [
    "print(fRead)"
   ]
  },
  {
   "cell_type": "code",
   "execution_count": 74,
   "metadata": {},
   "outputs": [],
   "source": [
    "file.close()"
   ]
  },
  {
   "cell_type": "code",
   "execution_count": 66,
   "metadata": {},
   "outputs": [
    {
     "data": {
      "text/plain": [
       "[]"
      ]
     },
     "execution_count": 66,
     "metadata": {},
     "output_type": "execute_result"
    }
   ],
   "source": [
    "mainList"
   ]
  },
  {
   "cell_type": "code",
   "execution_count": null,
   "metadata": {},
   "outputs": [],
   "source": []
  }
 ],
 "metadata": {
  "kernelspec": {
   "display_name": "Python 3",
   "language": "python",
   "name": "python3"
  },
  "language_info": {
   "codemirror_mode": {
    "name": "ipython",
    "version": 3
   },
   "file_extension": ".py",
   "mimetype": "text/x-python",
   "name": "python",
   "nbconvert_exporter": "python",
   "pygments_lexer": "ipython3",
   "version": "3.6.4"
  }
 },
 "nbformat": 4,
 "nbformat_minor": 2
}
