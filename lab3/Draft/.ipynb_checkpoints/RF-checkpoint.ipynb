{
 "cells": [
  {
   "cell_type": "code",
   "execution_count": 4,
   "metadata": {
    "collapsed": true
   },
   "outputs": [],
   "source": [
    "# Imports\n",
    "from pyspark.ml import Pipeline \n",
    "\n",
    "from pyspark.ml.classification import LogisticRegression \n",
    "from pyspark.ml.classification import NaiveBayes\n",
    "from pyspark.ml.classification import RandomForestClassifier\n",
    "\n",
    "from pyspark.ml.evaluation import BinaryClassificationEvaluator \n",
    "\n",
    "from pyspark.ml.evaluation import MulticlassClassificationEvaluator\n",
    "\n",
    "from pyspark.ml.feature import HashingTF, IDF, Tokenizer \n",
    "\n",
    "from pyspark.ml.feature import OneHotEncoder, IndexToString, StringIndexer, VectorIndexer, VectorAssembler\n",
    "\n",
    "from pyspark.ml.tuning import CrossValidator, ParamGridBuilder \n",
    "\n",
    "from pyspark.ml.tuning import ParamGridBuilder, TrainValidationSplit\n",
    "\n",
    "from pyspark.ml.evaluation import MulticlassClassificationEvaluator\n",
    "from pyspark.mllib.evaluation import MulticlassMetrics\n",
    "from pyspark import SparkContext \n",
    "from pyspark.sql.functions import col\n",
    "from pyspark import SQLContext \n",
    "from sklearn.metrics import confusion_matrix\n",
    "from pyspark.ml.feature import StopWordsRemover\n",
    "import matplotlib.pyplot as plt\n",
    "import itertools\n",
    "import numpy as np\n",
    "import pickle\n",
    "import random\n"
   ]
  },
  {
   "cell_type": "code",
   "execution_count": 5,
   "metadata": {
    "collapsed": true
   },
   "outputs": [],
   "source": [
    "def plot_confusion_matrix(cm,\n",
    "                          target_names,\n",
    "                          title='Confusion matrix',\n",
    "                          cmap=None,\n",
    "                          normalize=True):\n",
    "    \"\"\"\n",
    "    given a sklearn confusion matrix (cm), make a nice plot\n",
    "\n",
    "    Arguments\n",
    "    ---------\n",
    "    cm:           confusion matrix from sklearn.metrics.confusion_matrix\n",
    "\n",
    "    target_names: given classification classes such as [0, 1, 2]\n",
    "                  the class names, for example: ['high', 'medium', 'low']\n",
    "\n",
    "    title:        the text to display at the top of the matrix\n",
    "\n",
    "    cmap:         the gradient of the values displayed from matplotlib.pyplot.cm\n",
    "                  see http://matplotlib.org/examples/color/colormaps_reference.html\n",
    "                  plt.get_cmap('jet') or plt.cm.Blues\n",
    "\n",
    "    normalize:    If False, plot the raw numbers\n",
    "                  If True, plot the proportions\n",
    "\n",
    "    Usage\n",
    "    -----\n",
    "    plot_confusion_matrix(cm           = cm,                  # confusion matrix created by\n",
    "                                                              # sklearn.metrics.confusion_matrix\n",
    "                          normalize    = True,                # show proportions\n",
    "                          target_names = y_labels_vals,       # list of names of the classes\n",
    "                          title        = best_estimator_name) # title of graph\n",
    "\n",
    "    Citiation\n",
    "    ---------\n",
    "    http://scikit-learn.org/stable/auto_examples/model_selection/plot_confusion_matrix.html\n",
    "\n",
    "    \"\"\"\n",
    "\n",
    "\n",
    "    accuracy = np.trace(cm) / float(np.sum(cm))\n",
    "    misclass = 1 - accuracy\n",
    "\n",
    "    if cmap is None:\n",
    "        cmap = plt.get_cmap('Blues')\n",
    "\n",
    "    plt.figure(figsize=(8, 6))\n",
    "    plt.imshow(cm, interpolation='nearest', cmap=cmap)\n",
    "    plt.title(title)\n",
    "    plt.colorbar()\n",
    "\n",
    "    if target_names is not None:\n",
    "        tick_marks = np.arange(len(target_names))\n",
    "        plt.xticks(tick_marks, target_names, rotation=45)\n",
    "        plt.yticks(tick_marks, target_names)\n",
    "\n",
    "    if normalize:\n",
    "        cm = cm.astype('float') / cm.sum(axis=1)[:, np.newaxis]\n",
    "\n",
    "\n",
    "    thresh = cm.max() / 1.5 if normalize else cm.max() / 2\n",
    "    for i, j in itertools.product(range(cm.shape[0]), range(cm.shape[1])):\n",
    "        if normalize:\n",
    "            plt.text(j, i, \"{:0.4f}\".format(cm[i, j]),\n",
    "                     horizontalalignment=\"center\",\n",
    "                     color=\"white\" if cm[i, j] > thresh else \"black\")\n",
    "        else:\n",
    "            plt.text(j, i, \"{:,}\".format(cm[i, j]),\n",
    "                     horizontalalignment=\"center\",\n",
    "                     color=\"white\" if cm[i, j] > thresh else \"black\")\n",
    "\n",
    "\n",
    "    plt.tight_layout()\n",
    "    plt.ylabel('True label')\n",
    "    plt.xlabel('Predicted label\\naccuracy={:0.4f}; misclass={:0.4f}'.format(accuracy, misclass))\n",
    "    plt.show()"
   ]
  },
  {
   "cell_type": "code",
   "execution_count": 6,
   "metadata": {
    "collapsed": true
   },
   "outputs": [],
   "source": [
    "# Import Pickle\n",
    "with open('filename.pickle', 'rb') as handle: \n",
    "    b = pickle.load(handle) \n",
    "\n",
    "listData = b['DF']\n",
    "random.shuffle(listData)\n",
    "random.shuffle(listData)"
   ]
  },
  {
   "cell_type": "code",
   "execution_count": null,
   "metadata": {
    "collapsed": false
   },
   "outputs": [],
   "source": []
  },
  {
   "cell_type": "code",
   "execution_count": 8,
   "metadata": {
    "collapsed": false
   },
   "outputs": [],
   "source": [
    "# Create Spark Comtext\"\n",
    "sc = SparkContext.getOrCreate() \n",
    "spark = SQLContext(sc) "
   ]
  },
  {
   "cell_type": "code",
   "execution_count": 9,
   "metadata": {
    "collapsed": false
   },
   "outputs": [
    {
     "name": "stderr",
     "output_type": "stream",
     "text": [
      "/home/krithika/anaconda3/lib/python3.6/site-packages/pyspark/sql/session.py:340: UserWarning: inferring schema from dict is deprecated,please use pyspark.sql.Row instead\n",
      "  warnings.warn(\"inferring schema from dict is deprecated,\"\n"
     ]
    }
   ],
   "source": [
    "# Load Data in spark data frame \n",
    "sentenceData = spark.createDataFrame(listData)"
   ]
  },
  {
   "cell_type": "code",
   "execution_count": 10,
   "metadata": {
    "collapsed": false
   },
   "outputs": [
    {
     "name": "stdout",
     "output_type": "stream",
     "text": [
      "+--------------------+--------+\n",
      "|             article|category|\n",
      "+--------------------+--------+\n",
      "|As a young boy in...|  Sports|\n",
      "|WASHINGTON —  The...|Politics|\n",
      "|(Reuters) - A fed...|Politics|\n",
      "|EDUCATED A Memoir...|Politics|\n",
      "|When the former d...|  Sports|\n",
      "|SAN ANTONIO — The...|  Sports|\n",
      "|LONDON —  The NFL...|  Sports|\n",
      "|LITTLE ROCK, Ark....|Politics|\n",
      "|WASHINGTON/NEW YO...|Politics|\n",
      "|Mark Zuckerberg, ...|   Music|\n",
      "|ORLANDO, Fla. — O...|  Sports|\n",
      "|A decade ago, New...|Politics|\n",
      "|When Nitin Vaduku...|   Music|\n",
      "|WASHINGTON —  Rep...|Politics|\n",
      "|In the days after...|   Music|\n",
      "|WASHINGTON — Mail...|Politics|\n",
      "|WEDNESDAY PUZZLE ...|   Music|\n",
      "|INDIAN WELLS, Cal...|  Sports|\n",
      "|While many tradit...|  Sports|\n",
      "|Americans have sp...|Business|\n",
      "+--------------------+--------+\n",
      "only showing top 20 rows\n",
      "\n"
     ]
    }
   ],
   "source": [
    "# Rename column label since label is used in further down pipeline\n",
    "sentenceData = sentenceData.withColumnRenamed(\"label\",\"category\")\n",
    "sentenceData.show()"
   ]
  },
  {
   "cell_type": "code",
   "execution_count": 11,
   "metadata": {
    "collapsed": false
   },
   "outputs": [
    {
     "name": "stdout",
     "output_type": "stream",
     "text": [
      "+--------+-----+\n",
      "|category|count|\n",
      "+--------+-----+\n",
      "|  Sports|   74|\n",
      "|   Music|   68|\n",
      "|Politics|   45|\n",
      "|Business|   31|\n",
      "+--------+-----+\n",
      "\n"
     ]
    }
   ],
   "source": [
    "# Data group by count\n",
    "sentenceData.groupBy(\"category\") \\\n",
    "    .count() \\\n",
    "    .orderBy(col(\"count\").desc()) \\\n",
    "    .show()"
   ]
  },
  {
   "cell_type": "code",
   "execution_count": 12,
   "metadata": {
    "collapsed": false
   },
   "outputs": [],
   "source": [
    "# Train Test split\n",
    "training, test = sentenceData.randomSplit([0.8, 0.2], seed=12345)"
   ]
  },
  {
   "cell_type": "code",
   "execution_count": 13,
   "metadata": {
    "collapsed": false
   },
   "outputs": [],
   "source": [
    "# Configure an ML pipeline, which consists of tree stages: tokenizer, hashingTF, and lr. \n",
    "from pyspark.ml.classification import MultilayerPerceptronClassifier\n",
    "tokenizer = Tokenizer(inputCol=\"article\",\n",
    "                      outputCol=\"words\") \n",
    "\n",
    "remover = StopWordsRemover(inputCol=tokenizer.getOutputCol(), \n",
    "                           outputCol=\"filtered\")\n",
    "\n",
    "hashingTF = HashingTF(inputCol=remover.getOutputCol(), \n",
    "                      outputCol=\"HFfeatures\") \n",
    "\n",
    "label_stringIdx = StringIndexer(inputCol = \"category\", \n",
    "                                outputCol = \"label\").fit(training)\n",
    "\n",
    "\n",
    "# labelConverter = IndexToString(inputCol=\"prediction\", \n",
    "#                                outputCol=\"predictedLabel\",\n",
    "#                                labels=['Music', 'Sports', 'Politics', 'Business'])"
   ]
  },
  {
   "cell_type": "code",
   "execution_count": 23,
   "metadata": {
    "collapsed": false
   },
   "outputs": [],
   "source": [
    "featureIndexer = VectorIndexer(inputCol=\"HFfeatures\", \n",
    "                              outputCol=\"features\",\n",
    "                              maxCategories=4)\n",
    "\n",
    "rf = RandomForestClassifier(labelCol=\"label\",\n",
    "                            featuresCol=\"features\")"
   ]
  },
  {
   "cell_type": "code",
   "execution_count": 15,
   "metadata": {
    "collapsed": false
   },
   "outputs": [
    {
     "data": {
      "text/plain": [
       "['Sports', 'Music', 'Politics', 'Business']"
      ]
     },
     "execution_count": 15,
     "metadata": {},
     "output_type": "execute_result"
    }
   ],
   "source": [
    "label_stringIdx.labels"
   ]
  },
  {
   "cell_type": "code",
   "execution_count": 16,
   "metadata": {
    "collapsed": true
   },
   "outputs": [],
   "source": [
    "# Convert indexed labels back to original labels.\n",
    "labelConverter = IndexToString(inputCol=\"prediction\", \n",
    "                               outputCol=\"predictedLabel\",\n",
    "                               labels=label_stringIdx.labels)"
   ]
  },
  {
   "cell_type": "code",
   "execution_count": 28,
   "metadata": {
    "collapsed": false
   },
   "outputs": [],
   "source": [
    "pipeline_RF = Pipeline(stages=[tokenizer,remover, hashingTF,label_stringIdx,rf,labelConverter]) \n"
   ]
  },
  {
   "cell_type": "code",
   "execution_count": 29,
   "metadata": {
    "collapsed": false
   },
   "outputs": [
    {
     "data": {
      "text/plain": [
       "[{Param(parent='HashingTF_429ba60b1c939171b6fb', name='numFeatures', doc='number of features.'): 10,\n",
       "  Param(parent='RandomForestClassifier_46959eb887ae9aac3409', name='numTrees', doc='Number of trees to train (>= 1).'): 10},\n",
       " {Param(parent='HashingTF_429ba60b1c939171b6fb', name='numFeatures', doc='number of features.'): 10,\n",
       "  Param(parent='RandomForestClassifier_46959eb887ae9aac3409', name='numTrees', doc='Number of trees to train (>= 1).'): 20},\n",
       " {Param(parent='HashingTF_429ba60b1c939171b6fb', name='numFeatures', doc='number of features.'): 100,\n",
       "  Param(parent='RandomForestClassifier_46959eb887ae9aac3409', name='numTrees', doc='Number of trees to train (>= 1).'): 10},\n",
       " {Param(parent='HashingTF_429ba60b1c939171b6fb', name='numFeatures', doc='number of features.'): 100,\n",
       "  Param(parent='RandomForestClassifier_46959eb887ae9aac3409', name='numTrees', doc='Number of trees to train (>= 1).'): 20},\n",
       " {Param(parent='HashingTF_429ba60b1c939171b6fb', name='numFeatures', doc='number of features.'): 1000,\n",
       "  Param(parent='RandomForestClassifier_46959eb887ae9aac3409', name='numTrees', doc='Number of trees to train (>= 1).'): 10},\n",
       " {Param(parent='HashingTF_429ba60b1c939171b6fb', name='numFeatures', doc='number of features.'): 1000,\n",
       "  Param(parent='RandomForestClassifier_46959eb887ae9aac3409', name='numTrees', doc='Number of trees to train (>= 1).'): 20}]"
      ]
     },
     "execution_count": 29,
     "metadata": {},
     "output_type": "execute_result"
    }
   ],
   "source": [
    "paramGrid = ParamGridBuilder() \\\n",
    "    .addGrid(hashingTF.numFeatures, [10, 100, 1000]) \\\n",
    "    .addGrid(rf.numTrees, [10,20]) \\\n",
    "    .build()\n",
    "paramGrid"
   ]
  },
  {
   "cell_type": "code",
   "execution_count": 30,
   "metadata": {
    "collapsed": false
   },
   "outputs": [],
   "source": [
    "crossval = CrossValidator(estimator=pipeline_RF, \n",
    "                          estimatorParamMaps=paramGrid, \n",
    "                          evaluator=MulticlassClassificationEvaluator(), \n",
    "                          numFolds=2)"
   ]
  },
  {
   "cell_type": "code",
   "execution_count": 32,
   "metadata": {
    "collapsed": false
   },
   "outputs": [],
   "source": [
    "model = crossval.fit(training)"
   ]
  },
  {
   "cell_type": "code",
   "execution_count": 33,
   "metadata": {
    "collapsed": false
   },
   "outputs": [
    {
     "data": {
      "image/png": "[encoded data removed]",
      "text/plain": [
       "<matplotlib.figure.Figure at 0x7f850c60cef0>"
      ]
     },
     "metadata": {},
     "output_type": "display_data"
    },
    {
     "name": "stdout",
     "output_type": "stream",
     "text": [
      "Precision : 0.675\n",
      "F-Score : 0.675\n",
      "Recall : 0.675\n",
      "Weighted False Positive Rate : 0.15833333333333333\n"
     ]
    }
   ],
   "source": [
    "# Prediction\n",
    "\n",
    "#Logistic Regression\n",
    "prediction = model.transform(test) \n",
    "predictionAndLabel = prediction.select(\"prediction\", \"label\").rdd\n",
    "npLbl = np.array(prediction.select( \"label\").collect(),dtype=int)\n",
    "npPred = np.array(prediction.select(\"prediction\").collect(),dtype=int)\n",
    "metrics = MulticlassMetrics(predictionAndLabel)\n",
    "plot_confusion_matrix(cm           = confusion_matrix(npLbl,npPred), \n",
    "                      normalize    = False,\n",
    "                      target_names = ['Music', 'Sports', 'Politics', 'Business'],\n",
    "                      title        = \"Confusion Matrix\")\n",
    "print(\"Precision :\",metrics.precision()) # precision\n",
    "print(\"F-Score :\",metrics.fMeasure()) #f1 score\n",
    "print(\"Recall :\",metrics.recall()) # recall\n",
    "print(\"Weighted False Positive Rate :\",metrics.weightedFalsePositiveRate)"
   ]
  },
  {
   "cell_type": "code",
   "execution_count": null,
   "metadata": {
    "collapsed": true
   },
   "outputs": [],
   "source": [
    "predictions = model.transform()"
   ]
  },
  {
   "cell_type": "code",
   "execution_count": null,
   "metadata": {
    "collapsed": false
   },
   "outputs": [],
   "source": [
    "sc._conf.get('spark.driver')"
   ]
  },
  {
   "cell_type": "code",
   "execution_count": null,
   "metadata": {
    "collapsed": false
   },
   "outputs": [],
   "source": [
    "sc._conf.set('spark.executor.memory','32g').set('spark.driver.memory','32g').set('spark.driver.maxResultsSize','0')"
   ]
  },
  {
   "cell_type": "code",
   "execution_count": null,
   "metadata": {
    "collapsed": true
   },
   "outputs": [],
   "source": []
  }
 ],
 "metadata": {
  "kernelspec": {
   "display_name": "Python 3",
   "language": "python",
   "name": "python3"
  },
  "language_info": {
   "codemirror_mode": {
    "name": "ipython",
    "version": 3
   },
   "file_extension": ".py",
   "mimetype": "text/x-python",
   "name": "python",
   "nbconvert_exporter": "python",
   "pygments_lexer": "ipython3",
   "version": "3.6.0"
  }
 },
 "nbformat": 4,
 "nbformat_minor": 2
}
