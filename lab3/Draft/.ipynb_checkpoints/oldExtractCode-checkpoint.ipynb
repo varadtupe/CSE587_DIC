{
 "cells": [
  {
   "cell_type": "code",
   "execution_count": 1,
   "metadata": {
    "collapsed": true
   },
   "outputs": [],
   "source": [
    "import requests \n",
    "\n",
    "from bs4 import BeautifulSoup \n",
    "\n",
    "session = requests.Session() \n",
    "\n",
    "import datetime \n",
    "\n",
    "import pandas as pd \n",
    "\n",
    "import time "
   ]
  },
  {
   "cell_type": "code",
   "execution_count": 2,
   "metadata": {
    "collapsed": true
   },
   "outputs": [],
   "source": [
    " \n",
    "\n",
    "mainList = [] \n",
    "\n",
    "def NYDataCollect(searchword):\n",
    "\n",
    "    url = \"http://api.nytimes.com/svc/search/v2/articlesearch.json?q=\"+searchword+\"&api-key=212fe9ffc7be4f99b8c82341ceed2e03\" \n",
    "\n",
    "    r = requests.get(url) \n",
    "\n",
    "    data = r.json() \n",
    "\n",
    "    # print(data) \n",
    "\n",
    "    return data[\"response\"][\"docs\"] \n",
    "\n",
    " "
   ]
  },
  {
   "cell_type": "code",
   "execution_count": 3,
   "metadata": {
    "collapsed": true
   },
   "outputs": [],
   "source": [
    "def urlCollector(inpData): \n",
    "\n",
    "    urlList = [] \n",
    "\n",
    "    for i in inpData: \n",
    "\n",
    "        urlList.append(i[\"web_url\"]) \n",
    "\n",
    "    return urlList \n",
    "\n",
    " "
   ]
  },
  {
   "cell_type": "code",
   "execution_count": 4,
   "metadata": {
    "collapsed": true
   },
   "outputs": [],
   "source": [
    "def articleText(url,folder): \n",
    "\n",
    "    try: \n",
    "\n",
    "        #print(\"Inside articleText\") \n",
    "\n",
    "        req = session.get(url) \n",
    "\n",
    "        soup = BeautifulSoup(req.text,\"lxml\") \n",
    "\n",
    "        paragraphs = soup.find_all('p', class_='story-body-text story-content') \n",
    "\n",
    "        article = \"\" \n",
    "\n",
    "        for i in paragraphs: \n",
    "\n",
    "            article = article + i.get_text() \n",
    "\n",
    "        #print(article) \n",
    "\n",
    "        #writeToFile(article,\"nyData\",folder) \n",
    "\n",
    "        articleObj = {'article':article,'label':folder} \n",
    "\n",
    "        if article != '': \n",
    "\n",
    "            mainList.append(articleObj) \n",
    "\n",
    "         \n",
    "\n",
    "    except: \n",
    "\n",
    "        print(\"url problem for \" + url) \n",
    "\n",
    " "
   ]
  },
  {
   "cell_type": "code",
   "execution_count": 5,
   "metadata": {
    "collapsed": true
   },
   "outputs": [],
   "source": [
    "def writeToFile(inpStr,folder,subfolder): \n",
    "\n",
    "    #print(\"Inside writeToFile\") \n",
    "\n",
    "    filename = \"./\"+ folder+ \"/\"+ subfolder+ \"/article_\" + datetime.datetime.fromtimestamp(time.time()).strftime('%Y_%m_%d_%H_%M_%S') + \".txt\" \n",
    "\n",
    "    print(filename) \n",
    "\n",
    "    dFile= open(filename,\"w\") \n",
    "\n",
    "    dFile.write(inpStr) \n",
    "\n",
    "    dFile.close() \n",
    "\n",
    " "
   ]
  },
  {
   "cell_type": "code",
   "execution_count": 6,
   "metadata": {
    "collapsed": true
   },
   "outputs": [],
   "source": [
    "def getNYDataByTopic(topic,folder): \n",
    "\n",
    "    data = NYDataCollect(topic) \n",
    "\n",
    "    urls = urlCollector(data) \n",
    "\n",
    "    for i in urls: \n",
    "\n",
    "        print(i) \n",
    "\n",
    "        articleText(i,folder) \n",
    "\n",
    "         "
   ]
  },
  {
   "cell_type": "code",
   "execution_count": 7,
   "metadata": {
    "collapsed": false
   },
   "outputs": [
    {
     "name": "stdout",
     "output_type": "stream",
     "text": [
      "https://www.nytimes.com/2018/05/07/well/how-to-avoid-burnout-in-youth-sports.html\n",
      "https://www.nytimes.com/2018/03/30/opinion/sports-betting-final-four.html\n",
      "https://www.nytimes.com/2018/02/18/books/superfans-george-dohrmann.html\n",
      "https://www.nytimes.com/pages/sports/sports-email/index.html\n",
      "https://www.nytimes.com/2017/12/28/sunday-review/college-sports-tax-dodge.html\n",
      "https://www.nytimes.com/pages/sports/international/index.html\n",
      "https://www.nytimes.com/pages/sports/index.html\n",
      "https://topics.nytimes.com/top/reference/timestopics/subjects/o/officiating_sports/index.html\n",
      "url problem for https://topics.nytimes.com/top/reference/timestopics/subjects/o/officiating_sports/index.html\n",
      "https://topics.nytimes.com/topic/subject/officiating-sports\n",
      "url problem for https://topics.nytimes.com/topic/subject/officiating-sports\n",
      "https://www.nytimes.com/2017/12/08/sunday-review/how-russia-cheats.html\n"
     ]
    }
   ],
   "source": [
    " \n",
    "\n",
    "getNYDataByTopic('sports','sports') \n",
    "\n",
    " "
   ]
  },
  {
   "cell_type": "code",
   "execution_count": 8,
   "metadata": {
    "collapsed": false
   },
   "outputs": [
    {
     "data": {
      "text/html": [
       "<div>\n",
       "<table border=\"1\" class=\"dataframe\">\n",
       "  <thead>\n",
       "    <tr style=\"text-align: right;\">\n",
       "      <th></th>\n",
       "      <th>article</th>\n",
       "      <th>label</th>\n",
       "    </tr>\n",
       "  </thead>\n",
       "  <tbody>\n",
       "    <tr>\n",
       "      <th>0</th>\n",
       "      <td>Few would dispute the value to children of par...</td>\n",
       "      <td>sports</td>\n",
       "    </tr>\n",
       "    <tr>\n",
       "      <th>1</th>\n",
       "      <td>If you’ve never had your heart broken or your ...</td>\n",
       "      <td>sports</td>\n",
       "    </tr>\n",
       "    <tr>\n",
       "      <th>2</th>\n",
       "      <td>New York University does not have much of an a...</td>\n",
       "      <td>sports</td>\n",
       "    </tr>\n",
       "    <tr>\n",
       "      <th>3</th>\n",
       "      <td>LAUSANNE, Switzerland — “What do you think abo...</td>\n",
       "      <td>sports</td>\n",
       "    </tr>\n",
       "  </tbody>\n",
       "</table>\n",
       "</div>"
      ],
      "text/plain": [
       "                                             article   label\n",
       "0  Few would dispute the value to children of par...  sports\n",
       "1  If you’ve never had your heart broken or your ...  sports\n",
       "2  New York University does not have much of an a...  sports\n",
       "3  LAUSANNE, Switzerland — “What do you think abo...  sports"
      ]
     },
     "execution_count": 8,
     "metadata": {},
     "output_type": "execute_result"
    }
   ],
   "source": [
    "pd.DataFrame(mainList)  \n",
    "\n",
    " "
   ]
  },
  {
   "cell_type": "code",
   "execution_count": 10,
   "metadata": {
    "collapsed": true
   },
   "outputs": [],
   "source": [
    "politics = ['politics' ,'government' ,'democrats','republicans', 'elections', 'president trump' ,'gop' ,'senate','trump administration' ,'Electorate'] \n",
    "\n",
    "#30 \n",
    "\n",
    "business = ['finance','stock','markets', 'economy', 'money', 'trade', 'startups', 'wall', 'street', 'financial'] \n",
    "\n",
    "#46 \n",
    "\n",
    "sports = 'tennis,football,basketball,soccer,golf,gymnastics,hockey,baseball,games,nfl,sports'.split(\",\") \n",
    "\n",
    "# \n",
    "\n",
    "music = 'songlist song music concerts classical hip-hop jazz album singer songwriter grammy playlist'.split() "
   ]
  },
  {
   "cell_type": "code",
   "execution_count": null,
   "metadata": {
    "collapsed": true
   },
   "outputs": [],
   "source": [
    "# politics government democrats republicans elections president gop senate administration Electorate \n",
    "\n",
    "# political political party \n",
    "\n",
    "# getNYDataByTopic(\"investment\",\"business\") \n",
    "\n",
    "# finance stock markets economy money trade startups wall street financial  \n",
    "\n",
    "# business business insider investors companies traders investment \n",
    "\n",
    "# getNYDataByTopic(\"hockey\",\"sports\")  \n",
    "\n",
    "# tennis, football, basketball, soccer, golf, gymnastics, hockey, baseball, games, nfl, sports \n",
    "\n",
    "# getNYDataByTopic(\"playlist\",\"music\") \n",
    "\n",
    "# songlist song music concerts classical hip-hop jazz album singer songwriter grammy playlist \n",
    "\n",
    " \n",
    "\n",
    "# to clear empty files \n",
    "\n",
    " \n",
    "\n",
    " \n",
    "\n",
    " \n",
    "\n",
    " "
   ]
  },
  {
   "cell_type": "code",
   "execution_count": null,
   "metadata": {
    "collapsed": true
   },
   "outputs": [],
   "source": [
    "for i in business: \n",
    "\n",
    "    getNYDataByTopic(i,\"Business\") \n",
    "\n",
    " "
   ]
  },
  {
   "cell_type": "code",
   "execution_count": null,
   "metadata": {
    "collapsed": true
   },
   "outputs": [],
   "source": [
    "for i in politics: \n",
    "\n",
    "    getNYDataByTopic(i,\"Politics\") "
   ]
  },
  {
   "cell_type": "code",
   "execution_count": null,
   "metadata": {
    "collapsed": true
   },
   "outputs": [],
   "source": [
    " \n",
    "\n",
    "for i in music: \n",
    "\n",
    "    getNYDataByTopic(i,\"Music\") \n",
    "\n",
    " "
   ]
  },
  {
   "cell_type": "code",
   "execution_count": 11,
   "metadata": {
    "collapsed": false
   },
   "outputs": [
    {
     "name": "stdout",
     "output_type": "stream",
     "text": [
      "https://www.nytimes.com/2018/04/27/sports/tennis/serena-williams.html\n",
      "https://www.nytimes.com/2018/03/16/sports/tennis/davis-cup.html\n",
      "https://www.nytimes.com/2018/03/20/sports/tennis/roger-federer-laver-cup-chicago.html\n",
      "https://www.nytimes.com/2018/03/14/sports/tennis/indian-wells-daria-kasatkina.html\n",
      "https://www.nytimes.com/2018/01/29/sports/tennis/serena-williams-australian-open.html\n",
      "https://www.nytimes.com/2018/01/24/sports/tennis/hyeon-chung-australian-open.html\n",
      "https://www.nytimes.com/2018/01/12/sports/tennis/season-lookahead-2018.html\n",
      "https://www.nytimes.com/2018/01/19/sports/tennis/australian-open-backward-cap.html\n",
      "https://www.nytimes.com/2018/04/25/sports/tennis/tennis-anti-corruption-report.html\n",
      "https://www.nytimes.com/2018/02/26/sports/tennis/davis-cup-itf-pique.html\n",
      "https://www.nytimes.com/2018/04/27/sports/football/roger-goodell-nfl-draft.html\n",
      "https://www.nytimes.com/2018/02/06/sports/ncaafootball/national-signing-day.html\n",
      "https://topics.nytimes.com/topic/subject/football\n",
      "url problem for https://topics.nytimes.com/topic/subject/football\n",
      "https://topics.nytimes.com/top/reference/timestopics/subjects/f/football/index.html\n",
      "url problem for https://topics.nytimes.com/top/reference/timestopics/subjects/f/football/index.html\n",
      "https://topics.nytimes.com/top/reference/timestopics/subjects/f/fantasy_football/index.html\n",
      "url problem for https://topics.nytimes.com/top/reference/timestopics/subjects/f/fantasy_football/index.html\n",
      "https://topics.nytimes.com/topic/subject/fantasy-football-news-rankings-and-analysis\n",
      "url problem for https://topics.nytimes.com/topic/subject/fantasy-football-news-rankings-and-analysis\n",
      "https://www.nytimes.com/2018/03/20/sports/football/alliance-of-american-football.html\n",
      "https://www.nytimes.com/2018/05/03/sports/football/jason-witten-retires-dallas-cowboys.html\n",
      "https://www.nytimes.com/2018/02/02/sports/football/watch-nfl-dilemma.html\n",
      "https://www.nytimes.com/2017/12/28/sports/fantasy-football-nfl-week-17.html\n",
      "https://topics.nytimes.com/top/reference/timestopics/subjects/b/basketball/index.html\n",
      "url problem for https://topics.nytimes.com/top/reference/timestopics/subjects/b/basketball/index.html\n",
      "https://topics.nytimes.com/topic/subject/basketball\n",
      "url problem for https://topics.nytimes.com/topic/subject/basketball\n",
      "https://www.nytimes.com/2017/11/22/sports/basketball/fiba-world-cup.html\n",
      "https://topics.nytimes.com/olympics/2008/basketball_men/index.html\n",
      "url problem for https://topics.nytimes.com/olympics/2008/basketball_men/index.html\n",
      "https://www.nytimes.com/2018/04/24/sports/lebron-james-cavaliers.html\n",
      "https://www.nytimes.com/2018/04/13/sports/basketball/golden-state-warriors-fun-curry.html\n",
      "https://topics.nytimes.com/olympics/2008/basketball_women/index.html\n",
      "url problem for https://topics.nytimes.com/olympics/2008/basketball_women/index.html\n",
      "https://www.nytimes.com/2018/04/08/sports/omri-casspi-warriors.html\n",
      "https://www.nytimes.com/2018/04/27/sports/basketball/rajon-rondo-pelicans.html\n",
      "https://www.nytimes.com/2018/04/17/sports/heat-sixers-dwyane-wade.html\n",
      "https://www.nytimes.com/2018/04/30/sports/soccer/lyngby-bk-bankruptcy.html\n",
      "https://www.nytimes.com/2018/02/28/arts/music/soccer-mommy-clean-review.html\n",
      "https://www.nytimes.com/2018/03/01/sports/soccer/soccer-memory-west-brom.html\n",
      "https://www.nytimes.com/2018/04/21/sports/soccer/tottenham-hotspur-mauricio-pochettino.html\n",
      "https://www.nytimes.com/2018/04/17/sports/soccer/liverpool-legends-bayern-masters-football.html\n",
      "https://www.nytimes.com/2018/05/02/sports/soccer/liverpool-roma-champions-league.html\n",
      "https://www.nytimes.com/2018/04/07/sports/soccer/manchester-city-manchester-united-pogba.html\n",
      "https://www.nytimes.com/2018/04/25/sports/soccer/real-madrid-bayern-munich-champions-league.html\n",
      "https://www.nytimes.com/2018/04/09/sports/soccer/leon-bailey-jamaica-leverkusen.html\n",
      "https://www.nytimes.com/2018/04/20/sports/soccer/arsene-wenger-arsenal.html\n",
      "https://www.nytimes.com/2018/04/04/sports/golf/augusta-national-womens-tournament.html\n",
      "https://www.nytimes.com/2018/03/11/sports/golf/tiger-woods-valspar-championship.html\n",
      "https://www.nytimes.com/2018/03/28/sports/golf/michelle-wie-ana-inspiration.html\n",
      "https://www.nytimes.com/2018/04/08/sports/golf/jordan-spieth-misses-a-victory-but-gains-another-masters-memory.html\n",
      "https://www.nytimes.com/2018/04/05/sports/golf/tiger-woods-masters.html\n",
      "https://www.nytimes.com/2018/04/03/sports/golf/masters-tiger-woods-phil-mickelson.html\n",
      "https://www.nytimes.com/travel/guides/golf/overview.html\n",
      "https://topics.nytimes.com/top/reference/timestopics/subjects/g/golf/index.html\n",
      "url problem for https://topics.nytimes.com/top/reference/timestopics/subjects/g/golf/index.html\n",
      "https://topics.nytimes.com/topic/subject/golf\n",
      "url problem for https://topics.nytimes.com/topic/subject/golf\n",
      "https://topics.nytimes.com/top/great-homes-and-destinations/lifestyles/golf/index.html\n",
      "url problem for https://topics.nytimes.com/top/great-homes-and-destinations/lifestyles/golf/index.html\n",
      "https://topics.nytimes.com/olympics/2008/gymnastics/index.html\n",
      "url problem for https://topics.nytimes.com/olympics/2008/gymnastics/index.html\n",
      "https://topics.nytimes.com/olympics/2008/rhythmic_gymnastics/index.html\n",
      "url problem for https://topics.nytimes.com/olympics/2008/rhythmic_gymnastics/index.html\n",
      "https://www.nytimes.com/2018/01/22/sports/olympics/several-usa-gymnastics-board-members-resign.html\n",
      "https://www.nytimes.com/2018/03/01/sports/larry-nassar-gymnastics.html\n",
      "https://www.nytimes.com/2018/03/02/sports/aly-raisman-lawsuit-larry-nassar.html\n",
      "https://www.nytimes.com/2018/01/18/sports/usa-gymnastics-karolyi-ranch.html\n",
      "https://www.nytimes.com/2018/01/30/sports/larry-nassar-trial-gymnastics-gymnasts-reactions.html\n",
      "https://www.nytimes.com/video/sports/olympics/100000005709810/abuse-usa-gymnastics-nassar-peters-sharp-infante.html\n",
      "https://www.nytimes.com/reuters/2018/05/03/sports/olympics/03reuters-gymnastics-brazil-abuse.html\n",
      "https://www.nytimes.com/2018/01/30/sports/larry-nassar-texas.html\n",
      "https://www.nytimes.com/2018/04/23/sports/hockey/andrea-barone-gay-referee.html\n",
      "https://www.nytimes.com/2018/02/25/sports/hockey/olympic-nhl-hockey.html\n",
      "https://www.nytimes.com/2017/12/15/sports/hockey/nhl-centennial-goalie-rules.html\n",
      "https://www.nytimes.com/2018/03/22/sports/hockey/clarkson-ncaa-tournament.html\n",
      "https://topics.nytimes.com/topic/subject/hockey-ice\n",
      "url problem for https://topics.nytimes.com/topic/subject/hockey-ice\n",
      "https://topics.nytimes.com/top/reference/timestopics/subjects/h/hockey_ice/index.html\n",
      "url problem for https://topics.nytimes.com/top/reference/timestopics/subjects/h/hockey_ice/index.html\n",
      "https://topics.nytimes.com/olympics/2008/field_hockey/index.html\n",
      "url problem for https://topics.nytimes.com/olympics/2008/field_hockey/index.html\n",
      "https://www.nytimes.com/2018/01/21/sports/hockey/jim-johannson-olympics.html\n",
      "https://www.nytimes.com/2018/01/26/opinion/olympic-games-hockey.html\n",
      "https://www.nytimes.com/2018/03/18/sports/hockey/clarkson-colgate-national-championship.html\n",
      "https://www.nytimes.com/2018/04/12/sports/baseball/yankees-red-sox-brawl.html\n",
      "https://www.nytimes.com/2018/03/28/sports/baseball/mlb-home-runs.html\n",
      "https://www.nytimes.com/2018/02/06/sports/baseball/free-agents.html\n",
      "https://www.nytimes.com/2018/03/28/opinion/baseball-season-begins.html\n",
      "https://www.nytimes.com/2018/02/02/sports/baseball/mlb-free-agents.html\n",
      "https://www.nytimes.com/2018/03/21/sports/parkland-shooting-jesus-luzardo-oakland-athletics.html\n",
      "https://www.nytimes.com/2018/02/22/sports/baseball/boston-red-sox-alex-cora.html\n",
      "https://www.nytimes.com/2018/04/14/sports/baseball/shohei-ohtani-japan.html\n",
      "https://www.nytimes.com/2018/05/03/sports/ichiro-suzuki-albert-pujols.html\n",
      "https://topics.nytimes.com/top/reference/timestopics/subjects/b/baseball/index.html\n",
      "url problem for https://topics.nytimes.com/top/reference/timestopics/subjects/b/baseball/index.html\n",
      "https://topics.nytimes.com/technology/personaltech/games/overview.html\n",
      "url problem for https://topics.nytimes.com/technology/personaltech/games/overview.html\n",
      "https://www.nytimes.com/pages/crosswords/index.html\n",
      "https://www.nytimes.com/2018/03/30/opinion/sports-betting-final-four.html\n",
      "https://www.nytimes.com/2018/03/15/t-magazine/fashion/erdem-moralioglu-ballet.html\n",
      "https://topics.nytimes.com/topic/subject/x-games\n",
      "url problem for https://topics.nytimes.com/topic/subject/x-games\n",
      "https://topics.nytimes.com/top/reference/timestopics/subjects/x/x_games/index.html\n",
      "url problem for https://topics.nytimes.com/top/reference/timestopics/subjects/x/x_games/index.html\n",
      "https://topics.nytimes.com/top/reference/timestopics/subjects/o/olympic_games/index.html\n",
      "url problem for https://topics.nytimes.com/top/reference/timestopics/subjects/o/olympic_games/index.html\n",
      "https://topics.nytimes.com/top/reference/timestopics/subjects/p/paralympic_games/index.html\n",
      "url problem for https://topics.nytimes.com/top/reference/timestopics/subjects/p/paralympic_games/index.html\n",
      "https://topics.nytimes.com/topic/subject/paralympic-games\n",
      "url problem for https://topics.nytimes.com/topic/subject/paralympic-games\n",
      "https://www.nytimes.com/pages/arts/video-games/index.html\n",
      "https://www.nytimes.com/aponline/2018/05/03/sports/football/ap-fbn-bills-brandon.html\n",
      "https://www.nytimes.com/aponline/2018/05/01/business/ap-us-nielsens.html\n",
      "https://www.nytimes.com/aponline/2018/04/25/sports/football/ap-fbn-guice-interviews.html\n",
      "https://www.nytimes.com/aponline/2018/05/04/sports/ap-paul-newberry-cheerleaders.html\n",
      "https://www.nytimes.com/aponline/2018/05/02/sports/football/ap-fbn-reid-grievance.html\n",
      "https://www.nytimes.com/aponline/2018/04/28/sports/football/ap-fbn-nfl-draft.html\n",
      "https://www.nytimes.com/aponline/2018/05/02/sports/ap-us-around-the-fantasy-world.html\n",
      "https://www.nytimes.com/aponline/2018/04/28/sports/football/ap-fbn-draft-best-available.html\n",
      "https://www.nytimes.com/aponline/2018/04/24/sports/ncaafootball/ap-fbc-florida-callaway.html\n",
      "https://www.nytimes.com/aponline/2018/04/26/sports/football/ap-fbn-nfl-draft.html\n",
      "https://www.nytimes.com/2018/05/07/well/how-to-avoid-burnout-in-youth-sports.html\n",
      "https://www.nytimes.com/2018/03/30/opinion/sports-betting-final-four.html\n",
      "https://www.nytimes.com/2018/02/18/books/superfans-george-dohrmann.html\n",
      "https://www.nytimes.com/pages/sports/sports-email/index.html\n",
      "https://www.nytimes.com/2017/12/28/sunday-review/college-sports-tax-dodge.html\n",
      "https://www.nytimes.com/pages/sports/international/index.html\n",
      "https://www.nytimes.com/pages/sports/index.html\n",
      "https://topics.nytimes.com/top/reference/timestopics/subjects/o/officiating_sports/index.html\n",
      "url problem for https://topics.nytimes.com/top/reference/timestopics/subjects/o/officiating_sports/index.html\n",
      "https://topics.nytimes.com/topic/subject/officiating-sports\n",
      "url problem for https://topics.nytimes.com/topic/subject/officiating-sports\n",
      "https://www.nytimes.com/2017/12/08/sunday-review/how-russia-cheats.html\n"
     ]
    }
   ],
   "source": [
    "for i in sports: \n",
    "\n",
    "    getNYDataByTopic(i,\"Sports\") \n",
    "\n",
    " "
   ]
  },
  {
   "cell_type": "code",
   "execution_count": 12,
   "metadata": {
    "collapsed": true
   },
   "outputs": [],
   "source": [
    "mainDF = pd.DataFrame(mainList) \n",
    "\n",
    " "
   ]
  },
  {
   "cell_type": "code",
   "execution_count": 13,
   "metadata": {
    "collapsed": false
   },
   "outputs": [
    {
     "data": {
      "text/html": [
       "<div>\n",
       "<table border=\"1\" class=\"dataframe\">\n",
       "  <thead>\n",
       "    <tr style=\"text-align: right;\">\n",
       "      <th></th>\n",
       "      <th>article</th>\n",
       "    </tr>\n",
       "    <tr>\n",
       "      <th>label</th>\n",
       "      <th></th>\n",
       "    </tr>\n",
       "  </thead>\n",
       "  <tbody>\n",
       "    <tr>\n",
       "      <th>Business</th>\n",
       "      <td>8</td>\n",
       "    </tr>\n",
       "    <tr>\n",
       "      <th>Sports</th>\n",
       "      <td>72</td>\n",
       "    </tr>\n",
       "    <tr>\n",
       "      <th>sports</th>\n",
       "      <td>4</td>\n",
       "    </tr>\n",
       "  </tbody>\n",
       "</table>\n",
       "</div>"
      ],
      "text/plain": [
       "          article\n",
       "label            \n",
       "Business        8\n",
       "Sports         72\n",
       "sports          4"
      ]
     },
     "execution_count": 13,
     "metadata": {},
     "output_type": "execute_result"
    }
   ],
   "source": [
    "mainDF.groupby('label').count() \n",
    "\n",
    " "
   ]
  },
  {
   "cell_type": "code",
   "execution_count": 9,
   "metadata": {
    "collapsed": false
   },
   "outputs": [
    {
     "name": "stdout",
     "output_type": "stream",
     "text": [
      "https://topics.nytimes.com/top/reference/timestopics/subjects/c/campaign_finance/index.html\n",
      "url problem for https://topics.nytimes.com/top/reference/timestopics/subjects/c/campaign_finance/index.html\n",
      "https://topics.nytimes.com/topic/subject/campaign-finance-super-pacs\n",
      "url problem for https://topics.nytimes.com/topic/subject/campaign-finance-super-pacs\n",
      "https://topics.nytimes.com/top/news/business/small-business/finance-and-capital/index.html\n",
      "url problem for https://topics.nytimes.com/top/news/business/small-business/finance-and-capital/index.html\n",
      "https://topics.nytimes.com/top/news/business/small-business/personal-finance/index.html\n",
      "url problem for https://topics.nytimes.com/top/news/business/small-business/personal-finance/index.html\n",
      "https://topics.nytimes.com/topic/company/new-mountain-finance-corporation\n",
      "url problem for https://topics.nytimes.com/topic/company/new-mountain-finance-corporation\n",
      "https://topics.nytimes.com/top/news/business/companies/commercial-national-finance-corporation/index.html\n",
      "url problem for https://topics.nytimes.com/top/news/business/companies/commercial-national-finance-corporation/index.html\n",
      "https://topics.nytimes.com/top/news/business/companies/new-mountain-finance-corporation/index.html\n",
      "url problem for https://topics.nytimes.com/top/news/business/companies/new-mountain-finance-corporation/index.html\n",
      "https://topics.nytimes.com/topic/company/ship-finance-international-ltd\n",
      "url problem for https://topics.nytimes.com/topic/company/ship-finance-international-ltd\n",
      "https://topics.nytimes.com/topic/company/horizon-technology-finance-corporation\n",
      "url problem for https://topics.nytimes.com/topic/company/horizon-technology-finance-corporation\n",
      "https://topics.nytimes.com/top/news/business/companies/chaolei-marketing-and-finance/index.html\n",
      "url problem for https://topics.nytimes.com/top/news/business/companies/chaolei-marketing-and-finance/index.html\n",
      "https://www.nytimes.com/2018/03/19/theater/review-old-stock-hannah-moscovitch.html\n",
      "https://topics.nytimes.com/top/news/business/companies/palmerston-stock-agency-inc/index.html\n",
      "url problem for https://topics.nytimes.com/top/news/business/companies/palmerston-stock-agency-inc/index.html\n",
      "https://topics.nytimes.com/top/reference/timestopics/organizations/n/new_york_stock_exchange/index.html\n",
      "url problem for https://topics.nytimes.com/top/reference/timestopics/organizations/n/new_york_stock_exchange/index.html\n",
      "https://topics.nytimes.com/topic/organization/nasdaq-stock-market\n",
      "url problem for https://topics.nytimes.com/topic/organization/nasdaq-stock-market\n",
      "https://topics.nytimes.com/top/reference/timestopics/organizations/n/nasdaq_stock_market/index.html\n",
      "url problem for https://topics.nytimes.com/top/reference/timestopics/organizations/n/nasdaq_stock_market/index.html\n",
      "https://topics.nytimes.com/topic/subject/dow-jones-industrial-average\n",
      "url problem for https://topics.nytimes.com/topic/subject/dow-jones-industrial-average\n",
      "https://topics.nytimes.com/top/reference/timestopics/subjects/d/dow_jones_stock_average/index.html\n",
      "url problem for https://topics.nytimes.com/top/reference/timestopics/subjects/d/dow_jones_stock_average/index.html\n",
      "https://topics.nytimes.com/topic/company/stock-building-supply-holdings-inc\n",
      "url problem for https://topics.nytimes.com/topic/company/stock-building-supply-holdings-inc\n",
      "https://topics.nytimes.com/top/reference/timestopics/organizations/n/national_association_of_stock_car_auto_racing/index.html\n",
      "url problem for https://topics.nytimes.com/top/reference/timestopics/organizations/n/national_association_of_stock_car_auto_racing/index.html\n",
      "https://www.nytimes.com/aponline/2018/05/03/us/ap-us-tesla-bad-call.html\n",
      "https://topics.nytimes.com/top/news/business/markets/index.html\n",
      "url problem for https://topics.nytimes.com/top/news/business/markets/index.html\n",
      "https://topics.nytimes.com/topic/subject/markets\n",
      "url problem for https://topics.nytimes.com/topic/subject/markets\n",
      "https://topics.nytimes.com/topic/subject/black-markets\n",
      "url problem for https://topics.nytimes.com/topic/subject/black-markets\n",
      "https://topics.nytimes.com/top/reference/timestopics/subjects/m/mortgages/index.html\n",
      "url problem for https://topics.nytimes.com/top/reference/timestopics/subjects/m/mortgages/index.html\n",
      "https://topics.nytimes.com/top/reference/timestopics/subjects/b/black_markets/index.html\n",
      "url problem for https://topics.nytimes.com/top/reference/timestopics/subjects/b/black_markets/index.html\n",
      "https://www.nytimes.com/2018/04/02/books/review/robert-reich-common-good.html\n",
      "https://topics.nytimes.com/topic/subject/mortgages-and-the-markets\n",
      "url problem for https://topics.nytimes.com/topic/subject/mortgages-and-the-markets\n",
      "https://www.nytimes.com/2018/05/01/opinion/monopoly-power-new-gilded-age.html\n",
      "https://topics.nytimes.com/topic/company/weis-markets-inc\n",
      "url problem for https://topics.nytimes.com/topic/company/weis-markets-inc\n",
      "https://topics.nytimes.com/topic/company/otc-markets-group-inc\n",
      "url problem for https://topics.nytimes.com/topic/company/otc-markets-group-inc\n",
      "https://topics.nytimes.com/top/opinion/economy/index.html\n",
      "url problem for https://topics.nytimes.com/top/opinion/economy/index.html\n",
      "https://www.nytimes.com/2018/04/27/business/economy/gdp-economy.html\n",
      "https://www.nytimes.com/2018/05/04/business/economy/unemployment-jobs.html\n",
      "https://www.nytimes.com/pages/business/economy/index.html\n",
      "https://www.nytimes.com/2018/04/30/business/economy/gig-economy-ruling.html\n",
      "https://topics.nytimes.com/top/features/magazine/columns/its_the_economy/index.html\n",
      "url problem for https://topics.nytimes.com/top/features/magazine/columns/its_the_economy/index.html\n",
      "https://www.nytimes.com/2018/03/08/opinion/italy-europe-election.html\n",
      "https://www.nytimes.com/2018/03/20/business/economy/economy-recovery.html\n",
      "https://www.nytimes.com/2018/02/21/business/economy/fed-economy.html\n",
      "https://www.nytimes.com/2018/05/01/opinion/letters/economy-leonhardt.html\n"
     ]
    },
    {
     "ename": "KeyboardInterrupt",
     "evalue": "",
     "output_type": "error",
     "traceback": [
      "\u001b[0;31m---------------------------------------------------------------------------\u001b[0m",
      "\u001b[0;31mTypeError\u001b[0m                                 Traceback (most recent call last)",
      "\u001b[0;32m/home/krithika/anaconda3/lib/python3.6/site-packages/requests/packages/urllib3/connectionpool.py\u001b[0m in \u001b[0;36m_make_request\u001b[0;34m(self, conn, method, url, timeout, chunked, **httplib_request_kw)\u001b[0m\n\u001b[1;32m    383\u001b[0m             \u001b[0;32mtry\u001b[0m\u001b[0;34m:\u001b[0m  \u001b[0;31m# Python 2.7, use buffering of HTTP responses\u001b[0m\u001b[0;34m\u001b[0m\u001b[0m\n\u001b[0;32m--> 384\u001b[0;31m                 \u001b[0mhttplib_response\u001b[0m \u001b[0;34m=\u001b[0m \u001b[0mconn\u001b[0m\u001b[0;34m.\u001b[0m\u001b[0mgetresponse\u001b[0m\u001b[0;34m(\u001b[0m\u001b[0mbuffering\u001b[0m\u001b[0;34m=\u001b[0m\u001b[0;32mTrue\u001b[0m\u001b[0;34m)\u001b[0m\u001b[0;34m\u001b[0m\u001b[0m\n\u001b[0m\u001b[1;32m    385\u001b[0m             \u001b[0;32mexcept\u001b[0m \u001b[0mTypeError\u001b[0m\u001b[0;34m:\u001b[0m  \u001b[0;31m# Python 2.6 and older, Python 3\u001b[0m\u001b[0;34m\u001b[0m\u001b[0m\n",
      "\u001b[0;31mTypeError\u001b[0m: getresponse() got an unexpected keyword argument 'buffering'",
      "\nDuring handling of the above exception, another exception occurred:\n",
      "\u001b[0;31mKeyboardInterrupt\u001b[0m                         Traceback (most recent call last)",
      "\u001b[0;32m<ipython-input-9-d4b892fa3bf9>\u001b[0m in \u001b[0;36m<module>\u001b[0;34m()\u001b[0m\n\u001b[1;32m     45\u001b[0m \u001b[0;32mfor\u001b[0m \u001b[0mi\u001b[0m \u001b[0;32min\u001b[0m \u001b[0mbusiness\u001b[0m\u001b[0;34m:\u001b[0m\u001b[0;34m\u001b[0m\u001b[0m\n\u001b[1;32m     46\u001b[0m \u001b[0;34m\u001b[0m\u001b[0m\n\u001b[0;32m---> 47\u001b[0;31m     \u001b[0mgetNYDataByTopic\u001b[0m\u001b[0;34m(\u001b[0m\u001b[0mi\u001b[0m\u001b[0;34m,\u001b[0m\u001b[0;34m\"Business\"\u001b[0m\u001b[0;34m)\u001b[0m\u001b[0;34m\u001b[0m\u001b[0m\n\u001b[0m\u001b[1;32m     48\u001b[0m \u001b[0;34m\u001b[0m\u001b[0m\n\u001b[1;32m     49\u001b[0m \u001b[0;34m\u001b[0m\u001b[0m\n",
      "\u001b[0;32m<ipython-input-6-4c473006dcfb>\u001b[0m in \u001b[0;36mgetNYDataByTopic\u001b[0;34m(topic, folder)\u001b[0m\n\u001b[1;32m      1\u001b[0m \u001b[0;32mdef\u001b[0m \u001b[0mgetNYDataByTopic\u001b[0m\u001b[0;34m(\u001b[0m\u001b[0mtopic\u001b[0m\u001b[0;34m,\u001b[0m\u001b[0mfolder\u001b[0m\u001b[0;34m)\u001b[0m\u001b[0;34m:\u001b[0m\u001b[0;34m\u001b[0m\u001b[0m\n\u001b[1;32m      2\u001b[0m \u001b[0;34m\u001b[0m\u001b[0m\n\u001b[0;32m----> 3\u001b[0;31m     \u001b[0mdata\u001b[0m \u001b[0;34m=\u001b[0m \u001b[0mNYDataCollect\u001b[0m\u001b[0;34m(\u001b[0m\u001b[0mtopic\u001b[0m\u001b[0;34m)\u001b[0m\u001b[0;34m\u001b[0m\u001b[0m\n\u001b[0m\u001b[1;32m      4\u001b[0m \u001b[0;34m\u001b[0m\u001b[0m\n\u001b[1;32m      5\u001b[0m     \u001b[0murls\u001b[0m \u001b[0;34m=\u001b[0m \u001b[0murlCollector\u001b[0m\u001b[0;34m(\u001b[0m\u001b[0mdata\u001b[0m\u001b[0;34m)\u001b[0m\u001b[0;34m\u001b[0m\u001b[0m\n",
      "\u001b[0;32m<ipython-input-2-ee3c32f84d64>\u001b[0m in \u001b[0;36mNYDataCollect\u001b[0;34m(searchword)\u001b[0m\n\u001b[1;32m      7\u001b[0m    \u001b[0murl\u001b[0m \u001b[0;34m=\u001b[0m \u001b[0;34m\"http://api.nytimes.com/svc/search/v2/articlesearch.json?q=\"\u001b[0m\u001b[0;34m+\u001b[0m\u001b[0msearchword\u001b[0m\u001b[0;34m+\u001b[0m\u001b[0;34m\"&api-key=212fe9ffc7be4f99b8c82341ceed2e03\"\u001b[0m\u001b[0;34m\u001b[0m\u001b[0m\n\u001b[1;32m      8\u001b[0m \u001b[0;34m\u001b[0m\u001b[0m\n\u001b[0;32m----> 9\u001b[0;31m    \u001b[0mr\u001b[0m \u001b[0;34m=\u001b[0m \u001b[0mrequests\u001b[0m\u001b[0;34m.\u001b[0m\u001b[0mget\u001b[0m\u001b[0;34m(\u001b[0m\u001b[0murl\u001b[0m\u001b[0;34m)\u001b[0m\u001b[0;34m\u001b[0m\u001b[0m\n\u001b[0m\u001b[1;32m     10\u001b[0m \u001b[0;34m\u001b[0m\u001b[0m\n\u001b[1;32m     11\u001b[0m    \u001b[0mdata\u001b[0m \u001b[0;34m=\u001b[0m \u001b[0mr\u001b[0m\u001b[0;34m.\u001b[0m\u001b[0mjson\u001b[0m\u001b[0;34m(\u001b[0m\u001b[0;34m)\u001b[0m\u001b[0;34m\u001b[0m\u001b[0m\n",
      "\u001b[0;32m/home/krithika/anaconda3/lib/python3.6/site-packages/requests/api.py\u001b[0m in \u001b[0;36mget\u001b[0;34m(url, params, **kwargs)\u001b[0m\n\u001b[1;32m     68\u001b[0m \u001b[0;34m\u001b[0m\u001b[0m\n\u001b[1;32m     69\u001b[0m     \u001b[0mkwargs\u001b[0m\u001b[0;34m.\u001b[0m\u001b[0msetdefault\u001b[0m\u001b[0;34m(\u001b[0m\u001b[0;34m'allow_redirects'\u001b[0m\u001b[0;34m,\u001b[0m \u001b[0;32mTrue\u001b[0m\u001b[0;34m)\u001b[0m\u001b[0;34m\u001b[0m\u001b[0m\n\u001b[0;32m---> 70\u001b[0;31m     \u001b[0;32mreturn\u001b[0m \u001b[0mrequest\u001b[0m\u001b[0;34m(\u001b[0m\u001b[0;34m'get'\u001b[0m\u001b[0;34m,\u001b[0m \u001b[0murl\u001b[0m\u001b[0;34m,\u001b[0m \u001b[0mparams\u001b[0m\u001b[0;34m=\u001b[0m\u001b[0mparams\u001b[0m\u001b[0;34m,\u001b[0m \u001b[0;34m**\u001b[0m\u001b[0mkwargs\u001b[0m\u001b[0;34m)\u001b[0m\u001b[0;34m\u001b[0m\u001b[0m\n\u001b[0m\u001b[1;32m     71\u001b[0m \u001b[0;34m\u001b[0m\u001b[0m\n\u001b[1;32m     72\u001b[0m \u001b[0;34m\u001b[0m\u001b[0m\n",
      "\u001b[0;32m/home/krithika/anaconda3/lib/python3.6/site-packages/requests/api.py\u001b[0m in \u001b[0;36mrequest\u001b[0;34m(method, url, **kwargs)\u001b[0m\n\u001b[1;32m     54\u001b[0m     \u001b[0;31m# cases, and look like a memory leak in others.\u001b[0m\u001b[0;34m\u001b[0m\u001b[0;34m\u001b[0m\u001b[0m\n\u001b[1;32m     55\u001b[0m     \u001b[0;32mwith\u001b[0m \u001b[0msessions\u001b[0m\u001b[0;34m.\u001b[0m\u001b[0mSession\u001b[0m\u001b[0;34m(\u001b[0m\u001b[0;34m)\u001b[0m \u001b[0;32mas\u001b[0m \u001b[0msession\u001b[0m\u001b[0;34m:\u001b[0m\u001b[0;34m\u001b[0m\u001b[0m\n\u001b[0;32m---> 56\u001b[0;31m         \u001b[0;32mreturn\u001b[0m \u001b[0msession\u001b[0m\u001b[0;34m.\u001b[0m\u001b[0mrequest\u001b[0m\u001b[0;34m(\u001b[0m\u001b[0mmethod\u001b[0m\u001b[0;34m=\u001b[0m\u001b[0mmethod\u001b[0m\u001b[0;34m,\u001b[0m \u001b[0murl\u001b[0m\u001b[0;34m=\u001b[0m\u001b[0murl\u001b[0m\u001b[0;34m,\u001b[0m \u001b[0;34m**\u001b[0m\u001b[0mkwargs\u001b[0m\u001b[0;34m)\u001b[0m\u001b[0;34m\u001b[0m\u001b[0m\n\u001b[0m\u001b[1;32m     57\u001b[0m \u001b[0;34m\u001b[0m\u001b[0m\n\u001b[1;32m     58\u001b[0m \u001b[0;34m\u001b[0m\u001b[0m\n",
      "\u001b[0;32m/home/krithika/anaconda3/lib/python3.6/site-packages/requests/sessions.py\u001b[0m in \u001b[0;36mrequest\u001b[0;34m(self, method, url, params, data, headers, cookies, files, auth, timeout, allow_redirects, proxies, hooks, stream, verify, cert, json)\u001b[0m\n\u001b[1;32m    486\u001b[0m         }\n\u001b[1;32m    487\u001b[0m         \u001b[0msend_kwargs\u001b[0m\u001b[0;34m.\u001b[0m\u001b[0mupdate\u001b[0m\u001b[0;34m(\u001b[0m\u001b[0msettings\u001b[0m\u001b[0;34m)\u001b[0m\u001b[0;34m\u001b[0m\u001b[0m\n\u001b[0;32m--> 488\u001b[0;31m         \u001b[0mresp\u001b[0m \u001b[0;34m=\u001b[0m \u001b[0mself\u001b[0m\u001b[0;34m.\u001b[0m\u001b[0msend\u001b[0m\u001b[0;34m(\u001b[0m\u001b[0mprep\u001b[0m\u001b[0;34m,\u001b[0m \u001b[0;34m**\u001b[0m\u001b[0msend_kwargs\u001b[0m\u001b[0;34m)\u001b[0m\u001b[0;34m\u001b[0m\u001b[0m\n\u001b[0m\u001b[1;32m    489\u001b[0m \u001b[0;34m\u001b[0m\u001b[0m\n\u001b[1;32m    490\u001b[0m         \u001b[0;32mreturn\u001b[0m \u001b[0mresp\u001b[0m\u001b[0;34m\u001b[0m\u001b[0m\n",
      "\u001b[0;32m/home/krithika/anaconda3/lib/python3.6/site-packages/requests/sessions.py\u001b[0m in \u001b[0;36msend\u001b[0;34m(self, request, **kwargs)\u001b[0m\n\u001b[1;32m    607\u001b[0m \u001b[0;34m\u001b[0m\u001b[0m\n\u001b[1;32m    608\u001b[0m         \u001b[0;31m# Send the request\u001b[0m\u001b[0;34m\u001b[0m\u001b[0;34m\u001b[0m\u001b[0m\n\u001b[0;32m--> 609\u001b[0;31m         \u001b[0mr\u001b[0m \u001b[0;34m=\u001b[0m \u001b[0madapter\u001b[0m\u001b[0;34m.\u001b[0m\u001b[0msend\u001b[0m\u001b[0;34m(\u001b[0m\u001b[0mrequest\u001b[0m\u001b[0;34m,\u001b[0m \u001b[0;34m**\u001b[0m\u001b[0mkwargs\u001b[0m\u001b[0;34m)\u001b[0m\u001b[0;34m\u001b[0m\u001b[0m\n\u001b[0m\u001b[1;32m    610\u001b[0m \u001b[0;34m\u001b[0m\u001b[0m\n\u001b[1;32m    611\u001b[0m         \u001b[0;31m# Total elapsed time of the request (approximately)\u001b[0m\u001b[0;34m\u001b[0m\u001b[0;34m\u001b[0m\u001b[0m\n",
      "\u001b[0;32m/home/krithika/anaconda3/lib/python3.6/site-packages/requests/adapters.py\u001b[0m in \u001b[0;36msend\u001b[0;34m(self, request, stream, timeout, verify, cert, proxies)\u001b[0m\n\u001b[1;32m    421\u001b[0m                     \u001b[0mdecode_content\u001b[0m\u001b[0;34m=\u001b[0m\u001b[0;32mFalse\u001b[0m\u001b[0;34m,\u001b[0m\u001b[0;34m\u001b[0m\u001b[0m\n\u001b[1;32m    422\u001b[0m                     \u001b[0mretries\u001b[0m\u001b[0;34m=\u001b[0m\u001b[0mself\u001b[0m\u001b[0;34m.\u001b[0m\u001b[0mmax_retries\u001b[0m\u001b[0;34m,\u001b[0m\u001b[0;34m\u001b[0m\u001b[0m\n\u001b[0;32m--> 423\u001b[0;31m                     \u001b[0mtimeout\u001b[0m\u001b[0;34m=\u001b[0m\u001b[0mtimeout\u001b[0m\u001b[0;34m\u001b[0m\u001b[0m\n\u001b[0m\u001b[1;32m    424\u001b[0m                 )\n\u001b[1;32m    425\u001b[0m \u001b[0;34m\u001b[0m\u001b[0m\n",
      "\u001b[0;32m/home/krithika/anaconda3/lib/python3.6/site-packages/requests/packages/urllib3/connectionpool.py\u001b[0m in \u001b[0;36murlopen\u001b[0;34m(self, method, url, body, headers, retries, redirect, assert_same_host, timeout, pool_timeout, release_conn, chunked, **response_kw)\u001b[0m\n\u001b[1;32m    592\u001b[0m                                                   \u001b[0mtimeout\u001b[0m\u001b[0;34m=\u001b[0m\u001b[0mtimeout_obj\u001b[0m\u001b[0;34m,\u001b[0m\u001b[0;34m\u001b[0m\u001b[0m\n\u001b[1;32m    593\u001b[0m                                                   \u001b[0mbody\u001b[0m\u001b[0;34m=\u001b[0m\u001b[0mbody\u001b[0m\u001b[0;34m,\u001b[0m \u001b[0mheaders\u001b[0m\u001b[0;34m=\u001b[0m\u001b[0mheaders\u001b[0m\u001b[0;34m,\u001b[0m\u001b[0;34m\u001b[0m\u001b[0m\n\u001b[0;32m--> 594\u001b[0;31m                                                   chunked=chunked)\n\u001b[0m\u001b[1;32m    595\u001b[0m \u001b[0;34m\u001b[0m\u001b[0m\n\u001b[1;32m    596\u001b[0m             \u001b[0;31m# If we're going to release the connection in ``finally:``, then\u001b[0m\u001b[0;34m\u001b[0m\u001b[0;34m\u001b[0m\u001b[0m\n",
      "\u001b[0;32m/home/krithika/anaconda3/lib/python3.6/site-packages/requests/packages/urllib3/connectionpool.py\u001b[0m in \u001b[0;36m_make_request\u001b[0;34m(self, conn, method, url, timeout, chunked, **httplib_request_kw)\u001b[0m\n\u001b[1;32m    385\u001b[0m             \u001b[0;32mexcept\u001b[0m \u001b[0mTypeError\u001b[0m\u001b[0;34m:\u001b[0m  \u001b[0;31m# Python 2.6 and older, Python 3\u001b[0m\u001b[0;34m\u001b[0m\u001b[0m\n\u001b[1;32m    386\u001b[0m                 \u001b[0;32mtry\u001b[0m\u001b[0;34m:\u001b[0m\u001b[0;34m\u001b[0m\u001b[0m\n\u001b[0;32m--> 387\u001b[0;31m                     \u001b[0mhttplib_response\u001b[0m \u001b[0;34m=\u001b[0m \u001b[0mconn\u001b[0m\u001b[0;34m.\u001b[0m\u001b[0mgetresponse\u001b[0m\u001b[0;34m(\u001b[0m\u001b[0;34m)\u001b[0m\u001b[0;34m\u001b[0m\u001b[0m\n\u001b[0m\u001b[1;32m    388\u001b[0m                 \u001b[0;32mexcept\u001b[0m \u001b[0mException\u001b[0m \u001b[0;32mas\u001b[0m \u001b[0me\u001b[0m\u001b[0;34m:\u001b[0m\u001b[0;34m\u001b[0m\u001b[0m\n\u001b[1;32m    389\u001b[0m                     \u001b[0;31m# Remove the TypeError from the exception chain in Python 3;\u001b[0m\u001b[0;34m\u001b[0m\u001b[0;34m\u001b[0m\u001b[0m\n",
      "\u001b[0;32m/home/krithika/anaconda3/lib/python3.6/http/client.py\u001b[0m in \u001b[0;36mgetresponse\u001b[0;34m(self)\u001b[0m\n\u001b[1;32m   1329\u001b[0m         \u001b[0;32mtry\u001b[0m\u001b[0;34m:\u001b[0m\u001b[0;34m\u001b[0m\u001b[0m\n\u001b[1;32m   1330\u001b[0m             \u001b[0;32mtry\u001b[0m\u001b[0;34m:\u001b[0m\u001b[0;34m\u001b[0m\u001b[0m\n\u001b[0;32m-> 1331\u001b[0;31m                 \u001b[0mresponse\u001b[0m\u001b[0;34m.\u001b[0m\u001b[0mbegin\u001b[0m\u001b[0;34m(\u001b[0m\u001b[0;34m)\u001b[0m\u001b[0;34m\u001b[0m\u001b[0m\n\u001b[0m\u001b[1;32m   1332\u001b[0m             \u001b[0;32mexcept\u001b[0m \u001b[0mConnectionError\u001b[0m\u001b[0;34m:\u001b[0m\u001b[0;34m\u001b[0m\u001b[0m\n\u001b[1;32m   1333\u001b[0m                 \u001b[0mself\u001b[0m\u001b[0;34m.\u001b[0m\u001b[0mclose\u001b[0m\u001b[0;34m(\u001b[0m\u001b[0;34m)\u001b[0m\u001b[0;34m\u001b[0m\u001b[0m\n",
      "\u001b[0;32m/home/krithika/anaconda3/lib/python3.6/http/client.py\u001b[0m in \u001b[0;36mbegin\u001b[0;34m(self)\u001b[0m\n\u001b[1;32m    295\u001b[0m         \u001b[0;31m# read until we get a non-100 response\u001b[0m\u001b[0;34m\u001b[0m\u001b[0;34m\u001b[0m\u001b[0m\n\u001b[1;32m    296\u001b[0m         \u001b[0;32mwhile\u001b[0m \u001b[0;32mTrue\u001b[0m\u001b[0;34m:\u001b[0m\u001b[0;34m\u001b[0m\u001b[0m\n\u001b[0;32m--> 297\u001b[0;31m             \u001b[0mversion\u001b[0m\u001b[0;34m,\u001b[0m \u001b[0mstatus\u001b[0m\u001b[0;34m,\u001b[0m \u001b[0mreason\u001b[0m \u001b[0;34m=\u001b[0m \u001b[0mself\u001b[0m\u001b[0;34m.\u001b[0m\u001b[0m_read_status\u001b[0m\u001b[0;34m(\u001b[0m\u001b[0;34m)\u001b[0m\u001b[0;34m\u001b[0m\u001b[0m\n\u001b[0m\u001b[1;32m    298\u001b[0m             \u001b[0;32mif\u001b[0m \u001b[0mstatus\u001b[0m \u001b[0;34m!=\u001b[0m \u001b[0mCONTINUE\u001b[0m\u001b[0;34m:\u001b[0m\u001b[0;34m\u001b[0m\u001b[0m\n\u001b[1;32m    299\u001b[0m                 \u001b[0;32mbreak\u001b[0m\u001b[0;34m\u001b[0m\u001b[0m\n",
      "\u001b[0;32m/home/krithika/anaconda3/lib/python3.6/http/client.py\u001b[0m in \u001b[0;36m_read_status\u001b[0;34m(self)\u001b[0m\n\u001b[1;32m    256\u001b[0m \u001b[0;34m\u001b[0m\u001b[0m\n\u001b[1;32m    257\u001b[0m     \u001b[0;32mdef\u001b[0m \u001b[0m_read_status\u001b[0m\u001b[0;34m(\u001b[0m\u001b[0mself\u001b[0m\u001b[0;34m)\u001b[0m\u001b[0;34m:\u001b[0m\u001b[0;34m\u001b[0m\u001b[0m\n\u001b[0;32m--> 258\u001b[0;31m         \u001b[0mline\u001b[0m \u001b[0;34m=\u001b[0m \u001b[0mstr\u001b[0m\u001b[0;34m(\u001b[0m\u001b[0mself\u001b[0m\u001b[0;34m.\u001b[0m\u001b[0mfp\u001b[0m\u001b[0;34m.\u001b[0m\u001b[0mreadline\u001b[0m\u001b[0;34m(\u001b[0m\u001b[0m_MAXLINE\u001b[0m \u001b[0;34m+\u001b[0m \u001b[0;36m1\u001b[0m\u001b[0;34m)\u001b[0m\u001b[0;34m,\u001b[0m \u001b[0;34m\"iso-8859-1\"\u001b[0m\u001b[0;34m)\u001b[0m\u001b[0;34m\u001b[0m\u001b[0m\n\u001b[0m\u001b[1;32m    259\u001b[0m         \u001b[0;32mif\u001b[0m \u001b[0mlen\u001b[0m\u001b[0;34m(\u001b[0m\u001b[0mline\u001b[0m\u001b[0;34m)\u001b[0m \u001b[0;34m>\u001b[0m \u001b[0m_MAXLINE\u001b[0m\u001b[0;34m:\u001b[0m\u001b[0;34m\u001b[0m\u001b[0m\n\u001b[1;32m    260\u001b[0m             \u001b[0;32mraise\u001b[0m \u001b[0mLineTooLong\u001b[0m\u001b[0;34m(\u001b[0m\u001b[0;34m\"status line\"\u001b[0m\u001b[0;34m)\u001b[0m\u001b[0;34m\u001b[0m\u001b[0m\n",
      "\u001b[0;32m/home/krithika/anaconda3/lib/python3.6/socket.py\u001b[0m in \u001b[0;36mreadinto\u001b[0;34m(self, b)\u001b[0m\n\u001b[1;32m    584\u001b[0m         \u001b[0;32mwhile\u001b[0m \u001b[0;32mTrue\u001b[0m\u001b[0;34m:\u001b[0m\u001b[0;34m\u001b[0m\u001b[0m\n\u001b[1;32m    585\u001b[0m             \u001b[0;32mtry\u001b[0m\u001b[0;34m:\u001b[0m\u001b[0;34m\u001b[0m\u001b[0m\n\u001b[0;32m--> 586\u001b[0;31m                 \u001b[0;32mreturn\u001b[0m \u001b[0mself\u001b[0m\u001b[0;34m.\u001b[0m\u001b[0m_sock\u001b[0m\u001b[0;34m.\u001b[0m\u001b[0mrecv_into\u001b[0m\u001b[0;34m(\u001b[0m\u001b[0mb\u001b[0m\u001b[0;34m)\u001b[0m\u001b[0;34m\u001b[0m\u001b[0m\n\u001b[0m\u001b[1;32m    587\u001b[0m             \u001b[0;32mexcept\u001b[0m \u001b[0mtimeout\u001b[0m\u001b[0;34m:\u001b[0m\u001b[0;34m\u001b[0m\u001b[0m\n\u001b[1;32m    588\u001b[0m                 \u001b[0mself\u001b[0m\u001b[0;34m.\u001b[0m\u001b[0m_timeout_occurred\u001b[0m \u001b[0;34m=\u001b[0m \u001b[0;32mTrue\u001b[0m\u001b[0;34m\u001b[0m\u001b[0m\n",
      "\u001b[0;31mKeyboardInterrupt\u001b[0m: "
     ]
    }
   ],
   "source": [
    "import pickle \n",
    "\n",
    " \n",
    "\n",
    "a = {\"DF\":mainList} \n",
    "\n",
    "with open('filename.pickle', 'wb') as handle: \n",
    "\n",
    "    pickle.dump(a, handle, protocol=pickle.HIGHEST_PROTOCOL) \n",
    "\n",
    "     \n",
    "\n",
    "with open('filename.pickle', 'rb') as handle: \n",
    "\n",
    "    b = pickle.load(handle) \n",
    "\n",
    " \n",
    "\n",
    "a \n",
    "\n",
    " \n",
    "\n",
    " \n",
    "\n",
    "from pyspark.ml.linalg import Vectors \n",
    "\n",
    "from pyspark.ml.classification import LogisticRegression \n",
    "\n",
    " \n",
    "\n",
    "sc "
   ]
  },
  {
   "cell_type": "code",
   "execution_count": null,
   "metadata": {
    "collapsed": true
   },
   "outputs": [],
   "source": []
  }
 ],
 "metadata": {
  "kernelspec": {
   "display_name": "Python 3",
   "language": "python",
   "name": "python3"
  },
  "language_info": {
   "codemirror_mode": {
    "name": "ipython",
    "version": 3
   },
   "file_extension": ".py",
   "mimetype": "text/x-python",
   "name": "python",
   "nbconvert_exporter": "python",
   "pygments_lexer": "ipython3",
   "version": "3.6.0"
  }
 },
 "nbformat": 4,
 "nbformat_minor": 2
}
